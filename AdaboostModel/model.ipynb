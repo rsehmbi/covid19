{
 "cells": [
  {
   "cell_type": "code",
   "execution_count": 12,
   "metadata": {},
   "outputs": [],
   "source": [
    "import pandas as pd\n",
    "import numpy as np\n",
    "from sklearn.ensemble import AdaBoostClassifier\n",
    "from sklearn import metrics\n",
    "from joblib import dump, load\n",
    "from sklearn.model_selection import learning_curve"
   ]
  },
  {
   "cell_type": "code",
   "execution_count": 2,
   "metadata": {},
   "outputs": [],
   "source": [
    "def LoadTrainingData():\n",
    "    trainingdata = pd.read_csv(\"../TrainTestData/TrainingData.csv\")\n",
    "    y_train = trainingdata[\"outcome\"].values\n",
    "    trainingdata = trainingdata[[\"age\", \"sex\", \"latitude\", \"longitude\",\n",
    "                                 \"Confirmed\", \"Deaths\", \"Recovered\", \"Active\", \"Incidence_Rate\", \"Case-Fatality_Ratio\"]]\n",
    "    X_train = trainingdata.values\n",
    "    return X_train, y_train"
   ]
  },
  {
   "cell_type": "code",
   "execution_count": 3,
   "metadata": {},
   "outputs": [],
   "source": [
    "def LoadTestData():\n",
    "    testdata = pd.read_csv(\"../TrainTestData/TestData.csv\")\n",
    "    y_test = testdata[\"outcome\"].values\n",
    "    testdata = testdata[[\"age\", \"sex\", \"latitude\", \"longitude\",\n",
    "                         \"Confirmed\", \"Deaths\", \"Recovered\", \"Active\", \"Incidence_Rate\", \"Case-Fatality_Ratio\"]]\n",
    "    X_test = testdata.values\n",
    "    return X_test, y_test"
   ]
  },
  {
   "cell_type": "code",
   "execution_count": 10,
   "metadata": {},
   "outputs": [],
   "source": [
    "def BuildingAdaboostModel():\n",
    "    X_train, y_train = LoadTrainingData()\n",
    "    model = AdaBoostClassifier(n_estimators=10, learning_rate=1)\n",
    "    model.fit(X_train, y_train)\n",
    "    dump(model, 'AdaboostedModel.joblib')"
   ]
  },
  {
   "cell_type": "code",
   "execution_count": 8,
   "metadata": {},
   "outputs": [],
   "source": [
    "def Evaluation():\n",
    "    AdaboostedModel = load('AdaboostedModel.joblib')\n",
    "    X_train, y_train = LoadTrainingData()\n",
    "    X_test, y_test = LoadTestData()\n",
    "\n",
    "    # Metric 1: Validation Scores\n",
    "    print(\"Training Score \" +\n",
    "          str(AdaboostedModel.score(X_train, y_train)))\n",
    "    print(\"Validation Score \" +\n",
    "          str(AdaboostedModel.score(X_test, y_test)))\n",
    "\n",
    "    # Metric 2: Confusion Matrix\n",
    "    predicted = AdaboostedModel.predict(X_test)\n",
    "    matrix = metrics.confusion_matrix(y_test, predicted)\n",
    "    print(\"The Confusion Matrix for the prediction is\")\n",
    "    print(matrix)\n",
    "\n",
    "    # Metric 3: Classification Report\n",
    "    report = metrics.classification_report(y_test, predicted)\n",
    "    print(report)"
   ]
  },
  {
   "cell_type": "code",
   "execution_count": null,
   "metadata": {},
   "outputs": [],
   "source": [
    "# def Overfitting():\n",
    "#     k"
   ]
  },
  {
   "cell_type": "code",
   "execution_count": 9,
   "metadata": {},
   "outputs": [],
   "source": [
    "def main():\n",
    "    BuildingAdaboostModel()\n",
    "    Evaluation()"
   ]
  },
  {
   "cell_type": "code",
   "execution_count": 11,
   "metadata": {},
   "outputs": [
    {
     "name": "stdout",
     "output_type": "stream",
     "text": [
      "Training Score 0.7805537917897468\n",
      "Validation Score 0.7808562562805746\n",
      "The Confusion Matrix for the prediction is\n",
      "[[    0  1005    12     1]\n",
      " [    0 39361    55     0]\n",
      " [    0     0 31349    34]\n",
      " [    0 18669    69     2]]\n"
     ]
    },
    {
     "name": "stderr",
     "output_type": "stream",
     "text": [
      "/Applications/anaconda3/lib/python3.7/site-packages/sklearn/metrics/classification.py:1437: UndefinedMetricWarning: Precision and F-score are ill-defined and being set to 0.0 in labels with no predicted samples.\n",
      "  'precision', 'predicted', average, warn_for)\n"
     ]
    },
    {
     "name": "stdout",
     "output_type": "stream",
     "text": [
      "                 precision    recall  f1-score   support\n",
      "\n",
      "       deceased       0.00      0.00      0.00      1018\n",
      "   hospitalized       0.67      1.00      0.80     39416\n",
      "nonhospitalized       1.00      1.00      1.00     31383\n",
      "      recovered       0.05      0.00      0.00     18740\n",
      "\n",
      "       accuracy                           0.78     90557\n",
      "      macro avg       0.43      0.50      0.45     90557\n",
      "   weighted avg       0.65      0.78      0.69     90557\n",
      "\n"
     ]
    }
   ],
   "source": [
    "main()"
   ]
  },
  {
   "cell_type": "code",
   "execution_count": null,
   "metadata": {},
   "outputs": [],
   "source": [
    "\n",
    "#Predict the response for test dataset\n",
    "# y_pred = model.predict(X_test)"
   ]
  },
  {
   "cell_type": "code",
   "execution_count": null,
   "metadata": {},
   "outputs": [],
   "source": [
    "# print(\"Accuracy:\",metrics.accuracy_score(y_test, y_pred))"
   ]
  },
  {
   "cell_type": "code",
   "execution_count": null,
   "metadata": {},
   "outputs": [],
   "source": []
  }
 ],
 "metadata": {
  "kernelspec": {
   "display_name": "Python 3",
   "language": "python",
   "name": "python3"
  },
  "language_info": {
   "codemirror_mode": {
    "name": "ipython",
    "version": 3
   },
   "file_extension": ".py",
   "mimetype": "text/x-python",
   "name": "python",
   "nbconvert_exporter": "python",
   "pygments_lexer": "ipython3",
   "version": "3.7.3"
  }
 },
 "nbformat": 4,
 "nbformat_minor": 2
}
