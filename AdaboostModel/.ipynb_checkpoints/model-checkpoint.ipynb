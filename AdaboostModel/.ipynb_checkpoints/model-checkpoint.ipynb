{
 "cells": [
  {
   "cell_type": "code",
   "execution_count": 47,
   "metadata": {},
   "outputs": [],
   "source": [
    "import pandas as pd\n",
    "import numpy as np\n",
    "from sklearn.ensemble import AdaBoostClassifier\n",
    "from sklearn import metrics\n",
    "from joblib import dump, load"
   ]
  },
  {
   "cell_type": "code",
   "execution_count": 24,
   "metadata": {},
   "outputs": [],
   "source": [
    "def LoadTrainingData():\n",
    "    trainingdata = pd.read_csv(\"../TrainTestData/TrainingData.csv\")\n",
    "    y_train = trainingdata[\"outcome\"].values\n",
    "    trainingdata = trainingdata[[\"age\", \"sex\", \"latitude\", \"longitude\",\n",
    "                                 \"Confirmed\", \"Deaths\", \"Recovered\", \"Active\", \"Incidence_Rate\", \"Case-Fatality_Ratio\"]]\n",
    "    X_train = trainingdata.values\n",
    "    return X_train, y_train"
   ]
  },
  {
   "cell_type": "code",
   "execution_count": 23,
   "metadata": {},
   "outputs": [],
   "source": [
    "def LoadTestData():\n",
    "    testdata = pd.read_csv(\"../TrainTestData/TestData.csv\")\n",
    "    y_test = testdata[\"outcome\"].values\n",
    "    testdata = testdata[[\"age\", \"sex\", \"latitude\", \"longitude\",\n",
    "                         \"Confirmed\", \"Deaths\", \"Recovered\", \"Active\", \"Incidence_Rate\", \"Case-Fatality_Ratio\"]]\n",
    "    X_test = testdata.values\n",
    "    return X_test, y_test"
   ]
  },
  {
   "cell_type": "code",
   "execution_count": 48,
   "metadata": {},
   "outputs": [],
   "source": [
    "def BuildingAdaboostModel():\n",
    "    X_train, y_train = LoadTrainingData()\n",
    "    model = AdaBoostClassifier(n_estimators=10, learning_rate=1)\n",
    "    model.fit(X_train, y_train)\n",
    "    dump(model, 'AdaboostedModel.joblib')"
   ]
  },
  {
   "cell_type": "code",
   "execution_count": null,
   "metadata": {},
   "outputs": [],
   "source": [
    "def Evaluation():\n",
    "    AdaboostedModel = load('AdaboostedModel.joblib')\n",
    "    X_train, y_train = LoadTrainingData()\n",
    "    X_test, y_test = LoadTestData()\n",
    "\n",
    "    # Metric 1: Validation Scores\n",
    "    print(\"Training Score \" +\n",
    "          str(AdaboostedModel.score(X_train, y_train)))\n",
    "    print(\"Validation Score\" +\n",
    "          str(AdaboostedModel.score(X_test, y_test)))\n",
    "\n",
    "    # Metric 2: Confusion Matrix\n",
    "    predicted = AdaboostedModel.predict(X_test)\n",
    "    matrix = confusion_matrix(y_test, predicted)\n",
    "    print(\"The Confusion Matrix for the prediction is\")\n",
    "    print(matrix)\n",
    "\n",
    "    # Metric 3: Classification Report\n",
    "    report = classification_report(y_test, predicted)\n",
    "    print(report)"
   ]
  },
  {
   "cell_type": "code",
   "execution_count": null,
   "metadata": {},
   "outputs": [],
   "source": []
  },
  {
   "cell_type": "code",
   "execution_count": 44,
   "metadata": {},
   "outputs": [],
   "source": [
    "\n",
    "#Predict the response for test dataset\n",
    "# y_pred = model.predict(X_test)"
   ]
  },
  {
   "cell_type": "code",
   "execution_count": 45,
   "metadata": {},
   "outputs": [
    {
     "name": "stdout",
     "output_type": "stream",
     "text": [
      "Accuracy: 0.7808562562805746\n"
     ]
    }
   ],
   "source": [
    "# print(\"Accuracy:\",metrics.accuracy_score(y_test, y_pred))"
   ]
  },
  {
   "cell_type": "code",
   "execution_count": null,
   "metadata": {},
   "outputs": [],
   "source": []
  }
 ],
 "metadata": {
  "kernelspec": {
   "display_name": "Python 3",
   "language": "python",
   "name": "python3"
  },
  "language_info": {
   "codemirror_mode": {
    "name": "ipython",
    "version": 3
   },
   "file_extension": ".py",
   "mimetype": "text/x-python",
   "name": "python",
   "nbconvert_exporter": "python",
   "pygments_lexer": "ipython3",
   "version": "3.7.3"
  }
 },
 "nbformat": 4,
 "nbformat_minor": 2
}
