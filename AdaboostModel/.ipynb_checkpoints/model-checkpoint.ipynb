{
 "cells": [
  {
   "cell_type": "code",
   "execution_count": 9,
   "metadata": {},
   "outputs": [],
   "source": [
    "import pandas as pd\n",
    "import numpy as np\n",
    "from sklearn.ensemble import AdaBoostClassifier\n",
    "from sklearn import metrics\n",
    "from joblib import dump, load\n",
    "from sklearn.model_selection import learning_curve\n",
    "import seaborn as sns\n",
    "import matplotlib.pyplot as plt"
   ]
  },
  {
   "cell_type": "code",
   "execution_count": 2,
   "metadata": {},
   "outputs": [],
   "source": [
    "def LoadTrainingData():\n",
    "    trainingdata = pd.read_csv(\"../TrainTestData/TrainingData.csv\")\n",
    "    y_train = trainingdata[\"outcome\"].values\n",
    "    trainingdata = trainingdata[[\"age\", \"sex\", \"latitude\", \"longitude\",\n",
    "                                 \"Confirmed\", \"Deaths\", \"Recovered\", \"Active\", \"Incidence_Rate\", \"Case-Fatality_Ratio\"]]\n",
    "    X_train = trainingdata.values\n",
    "    return X_train, y_train"
   ]
  },
  {
   "cell_type": "code",
   "execution_count": 3,
   "metadata": {},
   "outputs": [],
   "source": [
    "def LoadTestData():\n",
    "    testdata = pd.read_csv(\"../TrainTestData/TestData.csv\")\n",
    "    y_test = testdata[\"outcome\"].values\n",
    "    testdata = testdata[[\"age\", \"sex\", \"latitude\", \"longitude\",\n",
    "                         \"Confirmed\", \"Deaths\", \"Recovered\", \"Active\", \"Incidence_Rate\", \"Case-Fatality_Ratio\"]]\n",
    "    X_test = testdata.values\n",
    "    return X_test, y_test"
   ]
  },
  {
   "cell_type": "code",
   "execution_count": 4,
   "metadata": {},
   "outputs": [],
   "source": [
    "def BuildingAdaboostModel():\n",
    "    X_train, y_train = LoadTrainingData()\n",
    "    model = AdaBoostClassifier(n_estimators=10, learning_rate=1)\n",
    "    model.fit(X_train, y_train)\n",
    "    dump(model, 'AdaboostedModel.joblib')"
   ]
  },
  {
   "cell_type": "code",
   "execution_count": 5,
   "metadata": {},
   "outputs": [],
   "source": [
    "def Evaluation():\n",
    "    AdaboostedModel = load('AdaboostedModel.joblib')\n",
    "    X_train, y_train = LoadTrainingData()\n",
    "    X_test, y_test = LoadTestData()\n",
    "\n",
    "    # Metric 1: Validation Scores\n",
    "    print(\"Training Score \" +\n",
    "          str(AdaboostedModel.score(X_train, y_train)))\n",
    "    print(\"Validation Score \" +\n",
    "          str(AdaboostedModel.score(X_test, y_test)))\n",
    "\n",
    "    # Metric 2: Confusion Matrix\n",
    "    predicted = AdaboostedModel.predict(X_test)\n",
    "    labels = ['True deceased', 'Negative', 'Negative', 'Negative', 'Negative', 'True hospitalized',\n",
    "              'Negative', 'Negative', 'Negative', 'Negative', ' True nonhospitalized', 'Negative', 'Negative', 'Negative', 'Negative', 'True recovered']\n",
    "    labels = np.asarray(labels).reshape(4,4)\n",
    "    matrix = metrics.confusion_matrix(y_test, predicted)\n",
    "    print(\"The Confusion Matrix for the prediction is\")\n",
    "    print(matrix)\n",
    "    fig = sns.heatmap(matrix, annot=labels, fmt='', cmap='Blues', cbar=False)\n",
    "    fig.figure.savefig(\"AdaboostConfusionMatrix.png\")\n",
    "\n",
    "\n",
    "    # Metric 3: Classification Report\n",
    "    report = metrics.classification_report(y_test, predicted)\n",
    "    print(report)"
   ]
  },
  {
   "cell_type": "code",
   "execution_count": 6,
   "metadata": {},
   "outputs": [],
   "source": [
    "def Overfitting():\n",
    "    X, y = LoadTrainingData()\n",
    "    train_sizes, train_scores, test_scores = learning_curve(AdaBoostClassifier(n_estimators=10, learning_rate=1),\n",
    "                                                            X,\n",
    "                                                            y,\n",
    "                                                            # Number of folds in cross-validation\n",
    "                                                            cv=10,\n",
    "                                                            # Evaluation metric\n",
    "                                                            scoring='accuracy',\n",
    "                                                            # Use all computer cores\n",
    "                                                            n_jobs=-1,\n",
    "                                                            # 20 different sizes of the training set\n",
    "                                                            train_sizes=np.linspace(0.01, 1.0, 50))\n",
    "    \n",
    "    train_mean = np.mean(train_scores, axis=1)\n",
    "    train_std = np.std(train_scores, axis=1)\n",
    "    \n",
    "    est_mean = np.mean(test_scores, axis=1)\n",
    "    test_std = np.std(test_scores, axis=1)\n",
    "    \n",
    "    plt.plot(train_sizes, train_mean, '--',\n",
    "             color=\"#111111\",  label=\"Training score\")\n",
    "    plt.plot(train_sizes, test_mean, color=\"#111111\",\n",
    "             label=\"Cross-validation score\")\n",
    "    \n",
    "    plt.fill_between(train_sizes, train_mean - train_std,\n",
    "                     train_mean + train_std, color=\"#DDDDDD\")\n",
    "    plt.fill_between(train_sizes, test_mean - test_std,\n",
    "                     test_mean + test_std, color=\"#DDDDDD\")\n",
    "    \n",
    "    plt.title(\"Learning Curve\")\n",
    "    plt.xlabel(\"Training Set Size\"), plt.ylabel(\n",
    "        \"Accuracy Score\"), plt.legend(loc=\"best\")\n",
    "    plt.tight_layout()\n",
    "    plt.savefig('AdaboostLearningCurve.png')"
   ]
  },
  {
   "cell_type": "code",
   "execution_count": 7,
   "metadata": {},
   "outputs": [],
   "source": [
    "def main():\n",
    "    BuildingAdaboostModel()\n",
    "    Evaluation()\n",
    "    Overfitting()"
   ]
  },
  {
   "cell_type": "code",
   "execution_count": 8,
   "metadata": {},
   "outputs": [
    {
     "name": "stdout",
     "output_type": "stream",
     "text": [
      "Training Score 0.7805537917897468\n",
      "Validation Score 0.7808562562805746\n",
      "The Confusion Matrix for the prediction is\n",
      "[[    0  1005    12     1]\n",
      " [    0 39361    55     0]\n",
      " [    0     0 31349    34]\n",
      " [    0 18669    69     2]]\n"
     ]
    },
    {
     "name": "stderr",
     "output_type": "stream",
     "text": [
      "/Applications/anaconda3/lib/python3.7/site-packages/sklearn/metrics/classification.py:1437: UndefinedMetricWarning: Precision and F-score are ill-defined and being set to 0.0 in labels with no predicted samples.\n",
      "  'precision', 'predicted', average, warn_for)\n"
     ]
    },
    {
     "name": "stdout",
     "output_type": "stream",
     "text": [
      "                 precision    recall  f1-score   support\n",
      "\n",
      "       deceased       0.00      0.00      0.00      1018\n",
      "   hospitalized       0.67      1.00      0.80     39416\n",
      "nonhospitalized       1.00      1.00      1.00     31383\n",
      "      recovered       0.05      0.00      0.00     18740\n",
      "\n",
      "       accuracy                           0.78     90557\n",
      "      macro avg       0.43      0.50      0.45     90557\n",
      "   weighted avg       0.65      0.78      0.69     90557\n",
      "\n"
     ]
    },
    {
     "ename": "NameError",
     "evalue": "name 'plt' is not defined",
     "output_type": "error",
     "traceback": [
      "\u001b[0;31m---------------------------------------------------------------------------\u001b[0m",
      "\u001b[0;31mNameError\u001b[0m                                 Traceback (most recent call last)",
      "\u001b[0;32m<ipython-input-8-263240bbee7e>\u001b[0m in \u001b[0;36m<module>\u001b[0;34m\u001b[0m\n\u001b[0;32m----> 1\u001b[0;31m \u001b[0mmain\u001b[0m\u001b[0;34m(\u001b[0m\u001b[0;34m)\u001b[0m\u001b[0;34m\u001b[0m\u001b[0;34m\u001b[0m\u001b[0m\n\u001b[0m",
      "\u001b[0;32m<ipython-input-7-f5cbae019b7b>\u001b[0m in \u001b[0;36mmain\u001b[0;34m()\u001b[0m\n\u001b[1;32m      2\u001b[0m     \u001b[0mBuildingAdaboostModel\u001b[0m\u001b[0;34m(\u001b[0m\u001b[0;34m)\u001b[0m\u001b[0;34m\u001b[0m\u001b[0;34m\u001b[0m\u001b[0m\n\u001b[1;32m      3\u001b[0m     \u001b[0mEvaluation\u001b[0m\u001b[0;34m(\u001b[0m\u001b[0;34m)\u001b[0m\u001b[0;34m\u001b[0m\u001b[0;34m\u001b[0m\u001b[0m\n\u001b[0;32m----> 4\u001b[0;31m     \u001b[0mOverfitting\u001b[0m\u001b[0;34m(\u001b[0m\u001b[0;34m)\u001b[0m\u001b[0;34m\u001b[0m\u001b[0;34m\u001b[0m\u001b[0m\n\u001b[0m",
      "\u001b[0;32m<ipython-input-6-66e09739bb95>\u001b[0m in \u001b[0;36mOverfitting\u001b[0;34m()\u001b[0m\n\u001b[1;32m     19\u001b[0m     \u001b[0mtest_std\u001b[0m \u001b[0;34m=\u001b[0m \u001b[0mnp\u001b[0m\u001b[0;34m.\u001b[0m\u001b[0mstd\u001b[0m\u001b[0;34m(\u001b[0m\u001b[0mtest_scores\u001b[0m\u001b[0;34m,\u001b[0m \u001b[0maxis\u001b[0m\u001b[0;34m=\u001b[0m\u001b[0;36m1\u001b[0m\u001b[0;34m)\u001b[0m\u001b[0;34m\u001b[0m\u001b[0;34m\u001b[0m\u001b[0m\n\u001b[1;32m     20\u001b[0m \u001b[0;34m\u001b[0m\u001b[0m\n\u001b[0;32m---> 21\u001b[0;31m     plt.plot(train_sizes, train_mean, '--',\n\u001b[0m\u001b[1;32m     22\u001b[0m              color=\"#111111\",  label=\"Training score\")\n\u001b[1;32m     23\u001b[0m     plt.plot(train_sizes, test_mean, color=\"#111111\",\n",
      "\u001b[0;31mNameError\u001b[0m: name 'plt' is not defined"
     ]
    },
    {
     "data": {
      "image/png": "[encoded data removed]",
      "text/plain": [
       "<Figure size 432x288 with 1 Axes>"
      ]
     },
     "metadata": {
      "needs_background": "light"
     },
     "output_type": "display_data"
    }
   ],
   "source": [
    "main()"
   ]
  }
 ],
 "metadata": {
  "kernelspec": {
   "display_name": "Python 3",
   "language": "python",
   "name": "python3"
  },
  "language_info": {
   "codemirror_mode": {
    "name": "ipython",
    "version": 3
   },
   "file_extension": ".py",
   "mimetype": "text/x-python",
   "name": "python",
   "nbconvert_exporter": "python",
   "pygments_lexer": "ipython3",
   "version": "3.7.3"
  }
 },
 "nbformat": 4,
 "nbformat_minor": 2
}
