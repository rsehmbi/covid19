{
 "cells": [
  {
   "cell_type": "markdown",
   "metadata": {},
   "source": [
    "### Reading Training and Test Datasets\n"
   ]
  },
  {
   "cell_type": "code",
   "execution_count": 1,
   "metadata": {},
   "outputs": [],
   "source": [
    "import pandas as pd\n",
    "import numpy as np\n",
    "from sklearn.ensemble import RandomForestClassifier\n",
    "from sklearn.metrics import confusion_matrix\n",
    "from sklearn.metrics import classification_report\n",
    "from sklearn.metrics import accuracy_score\n",
    "from sklearn.model_selection import learning_curve\n",
    "from joblib import dump,load\n",
    "import matplotlib.pyplot as plt \n",
    "import seaborn as sn\n",
    "import os"
   ]
  },
  {
   "cell_type": "code",
   "execution_count": 2,
   "metadata": {},
   "outputs": [
    {
     "data": {
      "text/plain": [
       "'C:\\\\Users\\\\Admin\\\\Documents\\\\Covid19repo\\\\covid19\\\\Forest'"
      ]
     },
     "execution_count": 2,
     "metadata": {},
     "output_type": "execute_result"
    }
   ],
   "source": [
    "os.getcwd()"
   ]
  },
  {
   "cell_type": "code",
   "execution_count": 3,
   "metadata": {},
   "outputs": [],
   "source": [
    "training_set=pd.read_csv(\"../TrainTestData/TrainingData.csv\")\n",
    "test_set=pd.read_csv(\"../TrainTestData/TestData.csv\")"
   ]
  },
  {
   "cell_type": "code",
   "execution_count": 4,
   "metadata": {},
   "outputs": [
    {
     "data": {
      "text/html": [
       "<div>\n",
       "<style scoped>\n",
       "    .dataframe tbody tr th:only-of-type {\n",
       "        vertical-align: middle;\n",
       "    }\n",
       "\n",
       "    .dataframe tbody tr th {\n",
       "        vertical-align: top;\n",
       "    }\n",
       "\n",
       "    .dataframe thead th {\n",
       "        text-align: right;\n",
       "    }\n",
       "</style>\n",
       "<table border=\"1\" class=\"dataframe\">\n",
       "  <thead>\n",
       "    <tr style=\"text-align: right;\">\n",
       "      <th></th>\n",
       "      <th>Unnamed: 0</th>\n",
       "      <th>index</th>\n",
       "      <th>Unnamed: 0.1</th>\n",
       "      <th>age</th>\n",
       "      <th>sex</th>\n",
       "      <th>province</th>\n",
       "      <th>country</th>\n",
       "      <th>latitude</th>\n",
       "      <th>longitude</th>\n",
       "      <th>date_confirmation</th>\n",
       "      <th>outcome</th>\n",
       "      <th>Confirmed</th>\n",
       "      <th>Deaths</th>\n",
       "      <th>Recovered</th>\n",
       "      <th>Active</th>\n",
       "      <th>Incidence_Rate</th>\n",
       "      <th>Case-Fatality_Ratio</th>\n",
       "    </tr>\n",
       "  </thead>\n",
       "  <tbody>\n",
       "    <tr>\n",
       "      <th>0</th>\n",
       "      <td>0</td>\n",
       "      <td>0</td>\n",
       "      <td>0</td>\n",
       "      <td>8.0</td>\n",
       "      <td>1</td>\n",
       "      <td>Gujarat</td>\n",
       "      <td>India</td>\n",
       "      <td>23.02776</td>\n",
       "      <td>72.60027</td>\n",
       "      <td>15.04.2020</td>\n",
       "      <td>hospitalized</td>\n",
       "      <td>120336</td>\n",
       "      <td>3286</td>\n",
       "      <td>100974</td>\n",
       "      <td>16076.0</td>\n",
       "      <td>188.400627</td>\n",
       "      <td>2.730687</td>\n",
       "    </tr>\n",
       "    <tr>\n",
       "      <th>1</th>\n",
       "      <td>2</td>\n",
       "      <td>2</td>\n",
       "      <td>2</td>\n",
       "      <td>8.0</td>\n",
       "      <td>1</td>\n",
       "      <td>Gujarat</td>\n",
       "      <td>India</td>\n",
       "      <td>23.02776</td>\n",
       "      <td>72.60027</td>\n",
       "      <td>13.05.2020</td>\n",
       "      <td>recovered</td>\n",
       "      <td>120336</td>\n",
       "      <td>3286</td>\n",
       "      <td>100974</td>\n",
       "      <td>16076.0</td>\n",
       "      <td>188.400627</td>\n",
       "      <td>2.730687</td>\n",
       "    </tr>\n",
       "    <tr>\n",
       "      <th>2</th>\n",
       "      <td>3</td>\n",
       "      <td>3</td>\n",
       "      <td>3</td>\n",
       "      <td>8.0</td>\n",
       "      <td>1</td>\n",
       "      <td>Gujarat</td>\n",
       "      <td>India</td>\n",
       "      <td>21.18578</td>\n",
       "      <td>72.83679</td>\n",
       "      <td>16.05.2020</td>\n",
       "      <td>recovered</td>\n",
       "      <td>120336</td>\n",
       "      <td>3286</td>\n",
       "      <td>100974</td>\n",
       "      <td>16076.0</td>\n",
       "      <td>188.400627</td>\n",
       "      <td>2.730687</td>\n",
       "    </tr>\n",
       "    <tr>\n",
       "      <th>3</th>\n",
       "      <td>4</td>\n",
       "      <td>4</td>\n",
       "      <td>4</td>\n",
       "      <td>8.0</td>\n",
       "      <td>1</td>\n",
       "      <td>Gujarat</td>\n",
       "      <td>India</td>\n",
       "      <td>23.02776</td>\n",
       "      <td>72.60027</td>\n",
       "      <td>18.04.2020</td>\n",
       "      <td>hospitalized</td>\n",
       "      <td>120336</td>\n",
       "      <td>3286</td>\n",
       "      <td>100974</td>\n",
       "      <td>16076.0</td>\n",
       "      <td>188.400627</td>\n",
       "      <td>2.730687</td>\n",
       "    </tr>\n",
       "    <tr>\n",
       "      <th>4</th>\n",
       "      <td>5</td>\n",
       "      <td>5</td>\n",
       "      <td>5</td>\n",
       "      <td>8.0</td>\n",
       "      <td>1</td>\n",
       "      <td>Gujarat</td>\n",
       "      <td>India</td>\n",
       "      <td>22.30946</td>\n",
       "      <td>73.17993</td>\n",
       "      <td>12.05.2020</td>\n",
       "      <td>recovered</td>\n",
       "      <td>120336</td>\n",
       "      <td>3286</td>\n",
       "      <td>100974</td>\n",
       "      <td>16076.0</td>\n",
       "      <td>188.400627</td>\n",
       "      <td>2.730687</td>\n",
       "    </tr>\n",
       "  </tbody>\n",
       "</table>\n",
       "</div>"
      ],
      "text/plain": [
       "   Unnamed: 0  index  Unnamed: 0.1  age  sex province country  latitude  \\\n",
       "0           0      0             0  8.0    1  Gujarat   India  23.02776   \n",
       "1           2      2             2  8.0    1  Gujarat   India  23.02776   \n",
       "2           3      3             3  8.0    1  Gujarat   India  21.18578   \n",
       "3           4      4             4  8.0    1  Gujarat   India  23.02776   \n",
       "4           5      5             5  8.0    1  Gujarat   India  22.30946   \n",
       "\n",
       "   longitude date_confirmation       outcome  Confirmed  Deaths  Recovered  \\\n",
       "0   72.60027        15.04.2020  hospitalized     120336    3286     100974   \n",
       "1   72.60027        13.05.2020     recovered     120336    3286     100974   \n",
       "2   72.83679        16.05.2020     recovered     120336    3286     100974   \n",
       "3   72.60027        18.04.2020  hospitalized     120336    3286     100974   \n",
       "4   73.17993        12.05.2020     recovered     120336    3286     100974   \n",
       "\n",
       "    Active  Incidence_Rate  Case-Fatality_Ratio  \n",
       "0  16076.0      188.400627             2.730687  \n",
       "1  16076.0      188.400627             2.730687  \n",
       "2  16076.0      188.400627             2.730687  \n",
       "3  16076.0      188.400627             2.730687  \n",
       "4  16076.0      188.400627             2.730687  "
      ]
     },
     "execution_count": 4,
     "metadata": {},
     "output_type": "execute_result"
    }
   ],
   "source": [
    "training_set.head()"
   ]
  },
  {
   "cell_type": "code",
   "execution_count": 5,
   "metadata": {},
   "outputs": [
    {
     "data": {
      "text/html": [
       "<div>\n",
       "<style scoped>\n",
       "    .dataframe tbody tr th:only-of-type {\n",
       "        vertical-align: middle;\n",
       "    }\n",
       "\n",
       "    .dataframe tbody tr th {\n",
       "        vertical-align: top;\n",
       "    }\n",
       "\n",
       "    .dataframe thead th {\n",
       "        text-align: right;\n",
       "    }\n",
       "</style>\n",
       "<table border=\"1\" class=\"dataframe\">\n",
       "  <thead>\n",
       "    <tr style=\"text-align: right;\">\n",
       "      <th></th>\n",
       "      <th>Unnamed: 0</th>\n",
       "      <th>index</th>\n",
       "      <th>Unnamed: 0.1</th>\n",
       "      <th>age</th>\n",
       "      <th>sex</th>\n",
       "      <th>province</th>\n",
       "      <th>country</th>\n",
       "      <th>latitude</th>\n",
       "      <th>longitude</th>\n",
       "      <th>date_confirmation</th>\n",
       "      <th>outcome</th>\n",
       "      <th>Confirmed</th>\n",
       "      <th>Deaths</th>\n",
       "      <th>Recovered</th>\n",
       "      <th>Active</th>\n",
       "      <th>Incidence_Rate</th>\n",
       "      <th>Case-Fatality_Ratio</th>\n",
       "    </tr>\n",
       "  </thead>\n",
       "  <tbody>\n",
       "    <tr>\n",
       "      <th>0</th>\n",
       "      <td>119815</td>\n",
       "      <td>119815</td>\n",
       "      <td>119815</td>\n",
       "      <td>23.0</td>\n",
       "      <td>1</td>\n",
       "      <td>Maharashtra</td>\n",
       "      <td>India</td>\n",
       "      <td>18.94017</td>\n",
       "      <td>72.83483</td>\n",
       "      <td>17.05.2020</td>\n",
       "      <td>recovered</td>\n",
       "      <td>1167496</td>\n",
       "      <td>31791</td>\n",
       "      <td>834432</td>\n",
       "      <td>301273.0</td>\n",
       "      <td>948.072083</td>\n",
       "      <td>2.723007</td>\n",
       "    </tr>\n",
       "    <tr>\n",
       "      <th>1</th>\n",
       "      <td>447884</td>\n",
       "      <td>447884</td>\n",
       "      <td>447884</td>\n",
       "      <td>58.0</td>\n",
       "      <td>0</td>\n",
       "      <td>Choco</td>\n",
       "      <td>Colombia</td>\n",
       "      <td>5.70990</td>\n",
       "      <td>-76.62021</td>\n",
       "      <td>21.05.2020</td>\n",
       "      <td>nonhospitalized</td>\n",
       "      <td>3930</td>\n",
       "      <td>154</td>\n",
       "      <td>3636</td>\n",
       "      <td>140.0</td>\n",
       "      <td>734.818427</td>\n",
       "      <td>3.918575</td>\n",
       "    </tr>\n",
       "    <tr>\n",
       "      <th>2</th>\n",
       "      <td>313966</td>\n",
       "      <td>313966</td>\n",
       "      <td>313966</td>\n",
       "      <td>40.0</td>\n",
       "      <td>1</td>\n",
       "      <td>Rajasthan</td>\n",
       "      <td>India</td>\n",
       "      <td>26.46553</td>\n",
       "      <td>74.63169</td>\n",
       "      <td>06.05.2020</td>\n",
       "      <td>hospitalized</td>\n",
       "      <td>111290</td>\n",
       "      <td>1308</td>\n",
       "      <td>92265</td>\n",
       "      <td>17717.0</td>\n",
       "      <td>137.339636</td>\n",
       "      <td>1.175308</td>\n",
       "    </tr>\n",
       "    <tr>\n",
       "      <th>3</th>\n",
       "      <td>304061</td>\n",
       "      <td>304061</td>\n",
       "      <td>304061</td>\n",
       "      <td>36.0</td>\n",
       "      <td>1</td>\n",
       "      <td>Tamil Nadu</td>\n",
       "      <td>India</td>\n",
       "      <td>11.13927</td>\n",
       "      <td>79.08428</td>\n",
       "      <td>06.05.2020</td>\n",
       "      <td>hospitalized</td>\n",
       "      <td>530908</td>\n",
       "      <td>8685</td>\n",
       "      <td>475717</td>\n",
       "      <td>46506.0</td>\n",
       "      <td>682.039258</td>\n",
       "      <td>1.635877</td>\n",
       "    </tr>\n",
       "    <tr>\n",
       "      <th>4</th>\n",
       "      <td>200984</td>\n",
       "      <td>200984</td>\n",
       "      <td>200984</td>\n",
       "      <td>67.0</td>\n",
       "      <td>0</td>\n",
       "      <td>Maharashtra</td>\n",
       "      <td>India</td>\n",
       "      <td>19.20000</td>\n",
       "      <td>72.96667</td>\n",
       "      <td>29.05.2020</td>\n",
       "      <td>recovered</td>\n",
       "      <td>1167496</td>\n",
       "      <td>31791</td>\n",
       "      <td>834432</td>\n",
       "      <td>301273.0</td>\n",
       "      <td>948.072083</td>\n",
       "      <td>2.723007</td>\n",
       "    </tr>\n",
       "  </tbody>\n",
       "</table>\n",
       "</div>"
      ],
      "text/plain": [
       "   Unnamed: 0   index  Unnamed: 0.1   age  sex     province   country  \\\n",
       "0      119815  119815        119815  23.0    1  Maharashtra     India   \n",
       "1      447884  447884        447884  58.0    0        Choco  Colombia   \n",
       "2      313966  313966        313966  40.0    1    Rajasthan     India   \n",
       "3      304061  304061        304061  36.0    1   Tamil Nadu     India   \n",
       "4      200984  200984        200984  67.0    0  Maharashtra     India   \n",
       "\n",
       "   latitude  longitude date_confirmation          outcome  Confirmed  Deaths  \\\n",
       "0  18.94017   72.83483        17.05.2020        recovered    1167496   31791   \n",
       "1   5.70990  -76.62021        21.05.2020  nonhospitalized       3930     154   \n",
       "2  26.46553   74.63169        06.05.2020     hospitalized     111290    1308   \n",
       "3  11.13927   79.08428        06.05.2020     hospitalized     530908    8685   \n",
       "4  19.20000   72.96667        29.05.2020        recovered    1167496   31791   \n",
       "\n",
       "   Recovered    Active  Incidence_Rate  Case-Fatality_Ratio  \n",
       "0     834432  301273.0      948.072083             2.723007  \n",
       "1       3636     140.0      734.818427             3.918575  \n",
       "2      92265   17717.0      137.339636             1.175308  \n",
       "3     475717   46506.0      682.039258             1.635877  \n",
       "4     834432  301273.0      948.072083             2.723007  "
      ]
     },
     "execution_count": 5,
     "metadata": {},
     "output_type": "execute_result"
    }
   ],
   "source": [
    "test_set.head()\n"
   ]
  },
  {
   "cell_type": "code",
   "execution_count": 6,
   "metadata": {},
   "outputs": [
    {
     "name": "stdout",
     "output_type": "stream",
     "text": [
      "The number of rows and columns in training dataset are: (362230, 17)\n"
     ]
    }
   ],
   "source": [
    "print(\"The number of rows and columns in training dataset are:\",training_set.shape)"
   ]
  },
  {
   "cell_type": "code",
   "execution_count": 7,
   "metadata": {},
   "outputs": [
    {
     "name": "stdout",
     "output_type": "stream",
     "text": [
      "The number of rows and columns in test dataset are: (90557, 17)\n"
     ]
    }
   ],
   "source": [
    "print(\"The number of rows and columns in test dataset are:\",test_set.shape)"
   ]
  },
  {
   "cell_type": "markdown",
   "metadata": {},
   "source": [
    "### To remove columns with categorical values and to Extract Features and Labels from Dataframes"
   ]
  },
  {
   "cell_type": "code",
   "execution_count": 8,
   "metadata": {},
   "outputs": [],
   "source": [
    "def LoadTrainingData():\n",
    "    training_set=pd.read_csv(\"../TrainTestData/TrainingData.csv\")\n",
    "    train_labels = training_set[\"outcome\"].values\n",
    "    training_set = training_set[[\"age\", \"sex\", \"latitude\", \"longitude\",\n",
    "                                 \"Confirmed\", \"Deaths\", \"Recovered\", \"Active\", \"Incidence_Rate\", \"Case-Fatality_Ratio\"]]\n",
    "    train_features = training_set.values\n",
    "    return train_features, train_labels"
   ]
  },
  {
   "cell_type": "code",
   "execution_count": 9,
   "metadata": {},
   "outputs": [],
   "source": [
    "def LoadTestData():\n",
    "    test_set=pd.read_csv(\"../TrainTestData/TestData.csv\")\n",
    "    test_labels = test_set[\"outcome\"].values\n",
    "    test_set = test_set[[\"age\", \"sex\", \"latitude\", \"longitude\",\n",
    "                         \"Confirmed\", \"Deaths\", \"Recovered\", \"Active\", \"Incidence_Rate\", \"Case-Fatality_Ratio\"]]\n",
    "    test_features = test_set.values\n",
    "    return test_features, test_labels"
   ]
  },
  {
   "cell_type": "markdown",
   "metadata": {},
   "source": [
    "### Creating the Random Forest Model"
   ]
  },
  {
   "cell_type": "code",
   "execution_count": 10,
   "metadata": {},
   "outputs": [],
   "source": [
    "def RandomForestModel():\n",
    "    feature,label=LoadTrainingData()\n",
    "    forest = RandomForestClassifier(n_estimators = 100, criterion='entropy',random_state = 0)\n",
    "    forest.fit(feature,label)\n",
    "    dump(forest,\"RandomForest.joblib\")"
   ]
  },
  {
   "cell_type": "markdown",
   "metadata": {},
   "source": [
    "### Evaluating the Model"
   ]
  },
  {
   "cell_type": "code",
   "execution_count": 11,
   "metadata": {},
   "outputs": [],
   "source": [
    "def Evaluation():\n",
    "    loaded_forest=load(\"RandomForest.joblib\")\n",
    "    train_features,train_labels=LoadTrainingData()\n",
    "    test_features,test_labels=LoadTestData()\n",
    "    predictions=loaded_forest.predict(test_features)\n",
    "    \n",
    "    #Metric 1:Confusion Matrix\n",
    "    matrix=confusion_matrix(test_labels,predictions)\n",
    "    print(\"The confusion matrix for random forest classifier is:\\n\")\n",
    "    plt.figure(figsize=(10,7))\n",
    "    sn.heatmap(matrix, annot=True, fmt='g')\n",
    "    plt.xlabel('Predicted Labels')\n",
    "    plt.ylabel('True Labels')\n",
    "    plt.show()\n",
    "    \n",
    "    #Metric 2:Classification Report\n",
    "    report=classification_report(test_labels,predictions)\n",
    "    print(\"\\033[1m\\n \\n The classification report for random forest classifier is:\\n\",report)\n",
    "    \n",
    "    #Metric 3:Accuracy Score\n",
    "    score=accuracy_score(test_labels,predictions)\n",
    "    print(\"\\n The accuracy score for random forest classifier using entropy is:\\n\",score,\"\\n\\n\")\n",
    "    \n",
    "    #Metric 4:Validation Score\n",
    "    print(\"Training Score : \" +\n",
    "          str(loaded_forest.score(train_features, train_labels)))\n",
    "    print(\"Validation Score :\" +\n",
    "          str(loaded_forest.score(test_features,test_labels)))\n",
    "    \n",
    "    \n",
    "   "
   ]
  },
  {
   "cell_type": "markdown",
   "metadata": {},
   "source": [
    "### Random Forest Model with Varying Hyperparameter(Criterion)"
   ]
  },
  {
   "cell_type": "code",
   "execution_count": 12,
   "metadata": {},
   "outputs": [],
   "source": [
    "def RandomForest2():\n",
    "    feature,label=LoadTrainingData()\n",
    "    forest2 = RandomForestClassifier(n_estimators = 100, criterion='gini',max_features=7,max_depth=8,min_samples_leaf=20,random_state = 1)\n",
    "    forest2.fit(feature,label)\n",
    "    test_features,test_labels=LoadTestData()\n",
    "    predictions=forest2.predict(test_features)\n",
    "    \n",
    "    print(\"\\n\\nThe validation scores for random forest classifier 2 is:\\n\")\n",
    "    print(\"Training Score :\" +\n",
    "          str(forest2.score(feature,label)))\n",
    "    print(\"Validation Score :\" +\n",
    "          str(forest2.score(test_features,test_labels)))\n",
    "    \n",
    "    \n",
    "    \n"
   ]
  },
  {
   "cell_type": "markdown",
   "metadata": {},
   "source": [
    "### Random Forest Classifier with an Increase in The Number of Decision Trees"
   ]
  },
  {
   "cell_type": "code",
   "execution_count": 13,
   "metadata": {},
   "outputs": [],
   "source": [
    "def RandomForest3():\n",
    "    feature,label=LoadTrainingData()\n",
    "    forest3 = RandomForestClassifier(n_estimators =200, criterion='entropy',max_features=3,max_depth=30,random_state =1)\n",
    "    forest3.fit(feature,label)\n",
    "    test_features,test_labels=LoadTestData()\n",
    "    predictions=forest3.predict(test_features)\n",
    "    \n",
    "    print(\"\\n\\nThe validation scores of random forest classifier 3 using more decision trees is:\\n\")\n",
    "    print(\"Training Score :\" +\n",
    "          str(forest3.score(feature, label)))\n",
    "    print(\"Validation Score :\" +\n",
    "          str(forest3.score(test_features,test_labels)))\n",
    "    \n",
    "    \n",
    "    \n",
    "    \n",
    "    \n"
   ]
  },
  {
   "cell_type": "code",
   "execution_count": 14,
   "metadata": {},
   "outputs": [],
   "source": [
    "def Overfitting():\n",
    "    train_features, train_labels = LoadTrainingData()\n",
    "    train_sizes, train_scores, test_scores = learning_curve(RandomForestClassifier(n_estimators=10,criterion='entropy', random_state=1),\n",
    "                                                            train_features,\n",
    "                                                            train_labels,\n",
    "                                                            # Number of folds in cross-validation\n",
    "                                                            cv=10,\n",
    "                                                            # Evaluation metric\n",
    "                                                            scoring='accuracy',\n",
    "                                                            # Use all computer cores\n",
    "                                                            n_jobs=-1,\n",
    "                                                            # 20 different sizes of the training set\n",
    "                                                            train_sizes=np.linspace(0.01, 1.0, 50))\n",
    "    \n",
    "    train_mean = np.mean(train_scores, axis=1)\n",
    "    train_std = np.std(train_scores, axis=1)\n",
    "    \n",
    "    est_mean = np.mean(test_scores, axis=1)\n",
    "    test_std = np.std(test_scores, axis=1)\n",
    "    \n",
    "    plt.plot(train_sizes, train_mean, '--',\n",
    "             color=\"#111111\",  label=\"Training score\")\n",
    "    plt.plot(train_sizes, test_mean, color=\"#111111\",\n",
    "             label=\"Cross-validation score\")\n",
    "    \n",
    "    plt.fill_between(train_sizes, train_mean - train_std,\n",
    "                     train_mean + train_std, color=\"#DDDDDD\")\n",
    "    plt.fill_between(train_sizes, test_mean - test_std,\n",
    "                     test_mean + test_std, color=\"#DDDDDD\")\n",
    "    \n",
    "    plt.title(\"Learning Curve\")\n",
    "    plt.xlabel(\"Training Set Size\"), plt.ylabel(\n",
    "        \"Accuracy Score\"), plt.legend(loc=\"best\")\n",
    "    plt.tight_layout()\n",
    "    plt.savefig('RandomForestLearningCurve.png')"
   ]
  },
  {
   "cell_type": "code",
   "execution_count": 15,
   "metadata": {},
   "outputs": [],
   "source": [
    "def main():\n",
    "    RandomForestModel()\n",
    "    Evaluation()\n",
    "    RandomForest2()\n",
    "    RandomForest3()\n",
    "    Overfitting()\n",
    "    "
   ]
  },
  {
   "cell_type": "markdown",
   "metadata": {},
   "source": [
    "### Evaluation Metrics Results"
   ]
  },
  {
   "cell_type": "code",
   "execution_count": null,
   "metadata": {},
   "outputs": [
    {
     "name": "stdout",
     "output_type": "stream",
     "text": [
      "The confusion matrix for random forest classifier is:\n",
      "\n"
     ]
    },
    {
     "data": {
      "image/png": "[encoded data removed]",
      "text/plain": [
       "<Figure size 720x504 with 2 Axes>"
      ]
     },
     "metadata": {
      "needs_background": "light"
     },
     "output_type": "display_data"
    },
    {
     "name": "stdout",
     "output_type": "stream",
     "text": [
      "\u001b[1m\n",
      " \n",
      " The classification report for random forest classifier is:\n",
      "                  precision    recall  f1-score   support\n",
      "\n",
      "       deceased       0.64      0.03      0.06      1018\n",
      "   hospitalized       0.70      0.95      0.81     39416\n",
      "nonhospitalized       1.00      1.00      1.00     31383\n",
      "      recovered       0.67      0.20      0.31     18740\n",
      "\n",
      "       accuracy                           0.80     90557\n",
      "      macro avg       0.75      0.55      0.55     90557\n",
      "   weighted avg       0.80      0.80      0.76     90557\n",
      "\n",
      "\n",
      " The accuracy score for random forest classifier using entropy is:\n",
      " 0.8040350276621354 \n",
      "\n",
      "\n",
      "Training Score : 0.8106506915495679\n",
      "Validation Score :0.8040350276621354\n",
      "\n",
      "\n",
      "The validation scores for random forest classifier 2 is:\n",
      "\n",
      "Training Score :0.8005686994451039\n",
      "Validation Score :0.8008436675243217\n",
      "\n",
      "\n",
      "The validation scores of random forest classifier 3 using more decision trees is:\n",
      "\n",
      "Training Score :0.8106589735803219\n",
      "Validation Score :0.8042558830349945\n"
     ]
    }
   ],
   "source": [
    "main()"
   ]
  },
  {
   "cell_type": "code",
   "execution_count": null,
   "metadata": {},
   "outputs": [],
   "source": []
  }
 ],
 "metadata": {
  "kernelspec": {
   "display_name": "Python 3",
   "language": "python",
   "name": "python3"
  },
  "language_info": {
   "codemirror_mode": {
    "name": "ipython",
    "version": 3
   },
   "file_extension": ".py",
   "mimetype": "text/x-python",
   "name": "python",
   "nbconvert_exporter": "python",
   "pygments_lexer": "ipython3",
   "version": "3.8.3"
  }
 },
 "nbformat": 4,
 "nbformat_minor": 4
}
