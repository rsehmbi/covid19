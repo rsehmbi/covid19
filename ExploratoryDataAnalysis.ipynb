{
 "cells": [
  {
   "cell_type": "code",
   "execution_count": 4,
   "metadata": {},
   "outputs": [],
   "source": [
    "import pandas as pd\n",
    "import numpy as np\n",
    "import matplotlib.pyplot as plt\n",
    "import seaborn as sns"
   ]
  },
  {
   "cell_type": "code",
   "execution_count": 5,
   "metadata": {},
   "outputs": [],
   "source": [
    "IndividualCases = pd.read_csv(\"dataset/processed_individual_cases_Sep20th2020.csv\")\n",
    "ProcessedLocations = pd.read_csv(\"dataset/processed_location_Sep20th2020.csv\")"
   ]
  },
  {
   "cell_type": "code",
   "execution_count": 6,
   "metadata": {},
   "outputs": [
    {
     "data": {
      "text/html": [
       "<div>\n",
       "<style scoped>\n",
       "    .dataframe tbody tr th:only-of-type {\n",
       "        vertical-align: middle;\n",
       "    }\n",
       "\n",
       "    .dataframe tbody tr th {\n",
       "        vertical-align: top;\n",
       "    }\n",
       "\n",
       "    .dataframe thead th {\n",
       "        text-align: right;\n",
       "    }\n",
       "</style>\n",
       "<table border=\"1\" class=\"dataframe\">\n",
       "  <thead>\n",
       "    <tr style=\"text-align: right;\">\n",
       "      <th></th>\n",
       "      <th>age</th>\n",
       "      <th>sex</th>\n",
       "      <th>province</th>\n",
       "      <th>country</th>\n",
       "      <th>latitude</th>\n",
       "      <th>longitude</th>\n",
       "      <th>date_confirmation</th>\n",
       "      <th>additional_information</th>\n",
       "      <th>source</th>\n",
       "      <th>outcome</th>\n",
       "    </tr>\n",
       "  </thead>\n",
       "  <tbody>\n",
       "    <tr>\n",
       "      <th>0</th>\n",
       "      <td>NaN</td>\n",
       "      <td>NaN</td>\n",
       "      <td>Gujarat</td>\n",
       "      <td>India</td>\n",
       "      <td>23.02776</td>\n",
       "      <td>72.60027</td>\n",
       "      <td>15.04.2020</td>\n",
       "      <td>NaN</td>\n",
       "      <td>https://gujcovid19.gujarat.gov.in/uploads/pres...</td>\n",
       "      <td>hospitalized</td>\n",
       "    </tr>\n",
       "    <tr>\n",
       "      <th>1</th>\n",
       "      <td>21.0</td>\n",
       "      <td>male</td>\n",
       "      <td>Moyobamba</td>\n",
       "      <td>Peru</td>\n",
       "      <td>-6.03271</td>\n",
       "      <td>-76.97230</td>\n",
       "      <td>09.05.2020</td>\n",
       "      <td>NaN</td>\n",
       "      <td>NaN</td>\n",
       "      <td>nonhospitalized</td>\n",
       "    </tr>\n",
       "    <tr>\n",
       "      <th>2</th>\n",
       "      <td>94.0</td>\n",
       "      <td>female</td>\n",
       "      <td>Lima</td>\n",
       "      <td>Peru</td>\n",
       "      <td>-12.04318</td>\n",
       "      <td>-77.02824</td>\n",
       "      <td>15.04.2020</td>\n",
       "      <td>NaN</td>\n",
       "      <td>NaN</td>\n",
       "      <td>nonhospitalized</td>\n",
       "    </tr>\n",
       "    <tr>\n",
       "      <th>3</th>\n",
       "      <td>NaN</td>\n",
       "      <td>NaN</td>\n",
       "      <td>Gujarat</td>\n",
       "      <td>India</td>\n",
       "      <td>23.02776</td>\n",
       "      <td>72.60027</td>\n",
       "      <td>22.05.2020</td>\n",
       "      <td>NaN</td>\n",
       "      <td>https://www.deshgujarat.com/2020/05/22/gujarat...</td>\n",
       "      <td>hospitalized</td>\n",
       "    </tr>\n",
       "    <tr>\n",
       "      <th>4</th>\n",
       "      <td>2.0</td>\n",
       "      <td>female</td>\n",
       "      <td>Coronel Portillo</td>\n",
       "      <td>Peru</td>\n",
       "      <td>-8.40921</td>\n",
       "      <td>-74.55572</td>\n",
       "      <td>30.04.2020</td>\n",
       "      <td>NaN</td>\n",
       "      <td>NaN</td>\n",
       "      <td>nonhospitalized</td>\n",
       "    </tr>\n",
       "  </tbody>\n",
       "</table>\n",
       "</div>"
      ],
      "text/plain": [
       "    age     sex          province country  latitude  longitude  \\\n",
       "0   NaN     NaN           Gujarat   India  23.02776   72.60027   \n",
       "1  21.0    male         Moyobamba    Peru  -6.03271  -76.97230   \n",
       "2  94.0  female              Lima    Peru -12.04318  -77.02824   \n",
       "3   NaN     NaN           Gujarat   India  23.02776   72.60027   \n",
       "4   2.0  female  Coronel Portillo    Peru  -8.40921  -74.55572   \n",
       "\n",
       "  date_confirmation additional_information  \\\n",
       "0        15.04.2020                    NaN   \n",
       "1        09.05.2020                    NaN   \n",
       "2        15.04.2020                    NaN   \n",
       "3        22.05.2020                    NaN   \n",
       "4        30.04.2020                    NaN   \n",
       "\n",
       "                                              source          outcome  \n",
       "0  https://gujcovid19.gujarat.gov.in/uploads/pres...     hospitalized  \n",
       "1                                                NaN  nonhospitalized  \n",
       "2                                                NaN  nonhospitalized  \n",
       "3  https://www.deshgujarat.com/2020/05/22/gujarat...     hospitalized  \n",
       "4                                                NaN  nonhospitalized  "
      ]
     },
     "execution_count": 6,
     "metadata": {},
     "output_type": "execute_result"
    }
   ],
   "source": [
    "IndividualCases.head()"
   ]
  },
  {
   "cell_type": "code",
   "execution_count": 7,
   "metadata": {},
   "outputs": [
    {
     "data": {
      "text/html": [
       "<div>\n",
       "<style scoped>\n",
       "    .dataframe tbody tr th:only-of-type {\n",
       "        vertical-align: middle;\n",
       "    }\n",
       "\n",
       "    .dataframe tbody tr th {\n",
       "        vertical-align: top;\n",
       "    }\n",
       "\n",
       "    .dataframe thead th {\n",
       "        text-align: right;\n",
       "    }\n",
       "</style>\n",
       "<table border=\"1\" class=\"dataframe\">\n",
       "  <thead>\n",
       "    <tr style=\"text-align: right;\">\n",
       "      <th></th>\n",
       "      <th>Province_State</th>\n",
       "      <th>Country_Region</th>\n",
       "      <th>Last_Update</th>\n",
       "      <th>Lat</th>\n",
       "      <th>Long_</th>\n",
       "      <th>Confirmed</th>\n",
       "      <th>Deaths</th>\n",
       "      <th>Recovered</th>\n",
       "      <th>Active</th>\n",
       "      <th>Combined_Key</th>\n",
       "      <th>Incidence_Rate</th>\n",
       "      <th>Case-Fatality_Ratio</th>\n",
       "    </tr>\n",
       "  </thead>\n",
       "  <tbody>\n",
       "    <tr>\n",
       "      <th>0</th>\n",
       "      <td>NaN</td>\n",
       "      <td>Afghanistan</td>\n",
       "      <td>2020-09-20 04:22:56</td>\n",
       "      <td>33.93911</td>\n",
       "      <td>67.709953</td>\n",
       "      <td>38919</td>\n",
       "      <td>1437</td>\n",
       "      <td>32576</td>\n",
       "      <td>4906.0</td>\n",
       "      <td>Afghanistan</td>\n",
       "      <td>99.976005</td>\n",
       "      <td>3.692284</td>\n",
       "    </tr>\n",
       "    <tr>\n",
       "      <th>1</th>\n",
       "      <td>NaN</td>\n",
       "      <td>Albania</td>\n",
       "      <td>2020-09-20 04:22:56</td>\n",
       "      <td>41.15330</td>\n",
       "      <td>20.168300</td>\n",
       "      <td>12226</td>\n",
       "      <td>358</td>\n",
       "      <td>6888</td>\n",
       "      <td>4980.0</td>\n",
       "      <td>Albania</td>\n",
       "      <td>424.838418</td>\n",
       "      <td>2.928186</td>\n",
       "    </tr>\n",
       "    <tr>\n",
       "      <th>2</th>\n",
       "      <td>NaN</td>\n",
       "      <td>Algeria</td>\n",
       "      <td>2020-09-20 04:22:56</td>\n",
       "      <td>28.03390</td>\n",
       "      <td>1.659600</td>\n",
       "      <td>49623</td>\n",
       "      <td>1665</td>\n",
       "      <td>34923</td>\n",
       "      <td>13035.0</td>\n",
       "      <td>Algeria</td>\n",
       "      <td>113.162645</td>\n",
       "      <td>3.355299</td>\n",
       "    </tr>\n",
       "    <tr>\n",
       "      <th>3</th>\n",
       "      <td>NaN</td>\n",
       "      <td>Andorra</td>\n",
       "      <td>2020-09-20 04:22:56</td>\n",
       "      <td>42.50630</td>\n",
       "      <td>1.521800</td>\n",
       "      <td>1564</td>\n",
       "      <td>53</td>\n",
       "      <td>1164</td>\n",
       "      <td>347.0</td>\n",
       "      <td>Andorra</td>\n",
       "      <td>2024.202420</td>\n",
       "      <td>3.388747</td>\n",
       "    </tr>\n",
       "    <tr>\n",
       "      <th>4</th>\n",
       "      <td>NaN</td>\n",
       "      <td>Angola</td>\n",
       "      <td>2020-09-20 04:22:56</td>\n",
       "      <td>-11.20270</td>\n",
       "      <td>17.873900</td>\n",
       "      <td>3901</td>\n",
       "      <td>147</td>\n",
       "      <td>1445</td>\n",
       "      <td>2309.0</td>\n",
       "      <td>Angola</td>\n",
       "      <td>11.869312</td>\n",
       "      <td>3.768265</td>\n",
       "    </tr>\n",
       "  </tbody>\n",
       "</table>\n",
       "</div>"
      ],
      "text/plain": [
       "  Province_State Country_Region          Last_Update       Lat      Long_  \\\n",
       "0            NaN    Afghanistan  2020-09-20 04:22:56  33.93911  67.709953   \n",
       "1            NaN        Albania  2020-09-20 04:22:56  41.15330  20.168300   \n",
       "2            NaN        Algeria  2020-09-20 04:22:56  28.03390   1.659600   \n",
       "3            NaN        Andorra  2020-09-20 04:22:56  42.50630   1.521800   \n",
       "4            NaN         Angola  2020-09-20 04:22:56 -11.20270  17.873900   \n",
       "\n",
       "   Confirmed  Deaths  Recovered   Active Combined_Key  Incidence_Rate  \\\n",
       "0      38919    1437      32576   4906.0  Afghanistan       99.976005   \n",
       "1      12226     358       6888   4980.0      Albania      424.838418   \n",
       "2      49623    1665      34923  13035.0      Algeria      113.162645   \n",
       "3       1564      53       1164    347.0      Andorra     2024.202420   \n",
       "4       3901     147       1445   2309.0       Angola       11.869312   \n",
       "\n",
       "   Case-Fatality_Ratio  \n",
       "0             3.692284  \n",
       "1             2.928186  \n",
       "2             3.355299  \n",
       "3             3.388747  \n",
       "4             3.768265  "
      ]
     },
     "execution_count": 7,
     "metadata": {},
     "output_type": "execute_result"
    }
   ],
   "source": [
    "ProcessedLocations.head()"
   ]
  },
  {
   "cell_type": "code",
   "execution_count": 8,
   "metadata": {},
   "outputs": [
    {
     "name": "stdout",
     "output_type": "stream",
     "text": [
      "<class 'pandas.core.frame.DataFrame'>\n",
      "RangeIndex: 557364 entries, 0 to 557363\n",
      "Data columns (total 10 columns):\n",
      " #   Column                  Non-Null Count   Dtype  \n",
      "---  ------                  --------------   -----  \n",
      " 0   age                     260490 non-null  object \n",
      " 1   sex                     263630 non-null  object \n",
      " 2   province                550796 non-null  object \n",
      " 3   country                 557340 non-null  object \n",
      " 4   latitude                557362 non-null  float64\n",
      " 5   longitude               557362 non-null  float64\n",
      " 6   date_confirmation       556902 non-null  object \n",
      " 7   additional_information  34395 non-null   object \n",
      " 8   source                  348173 non-null  object \n",
      " 9   outcome                 557364 non-null  object \n",
      "dtypes: float64(2), object(8)\n",
      "memory usage: 42.5+ MB\n"
     ]
    }
   ],
   "source": [
    "IndividualCases.info()"
   ]
  },
  {
   "cell_type": "code",
   "execution_count": 9,
   "metadata": {},
   "outputs": [
    {
     "name": "stdout",
     "output_type": "stream",
     "text": [
      "<class 'pandas.core.frame.DataFrame'>\n",
      "RangeIndex: 3954 entries, 0 to 3953\n",
      "Data columns (total 12 columns):\n",
      " #   Column               Non-Null Count  Dtype  \n",
      "---  ------               --------------  -----  \n",
      " 0   Province_State       3786 non-null   object \n",
      " 1   Country_Region       3954 non-null   object \n",
      " 2   Last_Update          3954 non-null   object \n",
      " 3   Lat                  3874 non-null   float64\n",
      " 4   Long_                3874 non-null   float64\n",
      " 5   Confirmed            3954 non-null   int64  \n",
      " 6   Deaths               3954 non-null   int64  \n",
      " 7   Recovered            3954 non-null   int64  \n",
      " 8   Active               3952 non-null   float64\n",
      " 9   Combined_Key         3954 non-null   object \n",
      " 10  Incidence_Rate       3874 non-null   float64\n",
      " 11  Case-Fatality_Ratio  3906 non-null   float64\n",
      "dtypes: float64(5), int64(3), object(4)\n",
      "memory usage: 370.8+ KB\n"
     ]
    }
   ],
   "source": [
    "ProcessedLocations.info()"
   ]
  },
  {
   "cell_type": "code",
   "execution_count": 10,
   "metadata": {},
   "outputs": [
    {
     "data": {
      "text/html": [
       "<div>\n",
       "<style scoped>\n",
       "    .dataframe tbody tr th:only-of-type {\n",
       "        vertical-align: middle;\n",
       "    }\n",
       "\n",
       "    .dataframe tbody tr th {\n",
       "        vertical-align: top;\n",
       "    }\n",
       "\n",
       "    .dataframe thead th {\n",
       "        text-align: right;\n",
       "    }\n",
       "</style>\n",
       "<table border=\"1\" class=\"dataframe\">\n",
       "  <thead>\n",
       "    <tr style=\"text-align: right;\">\n",
       "      <th></th>\n",
       "      <th>latitude</th>\n",
       "      <th>longitude</th>\n",
       "    </tr>\n",
       "  </thead>\n",
       "  <tbody>\n",
       "    <tr>\n",
       "      <th>count</th>\n",
       "      <td>557362.000000</td>\n",
       "      <td>557362.000000</td>\n",
       "    </tr>\n",
       "    <tr>\n",
       "      <th>mean</th>\n",
       "      <td>18.138385</td>\n",
       "      <td>27.285771</td>\n",
       "    </tr>\n",
       "    <tr>\n",
       "      <th>std</th>\n",
       "      <td>20.455801</td>\n",
       "      <td>67.577194</td>\n",
       "    </tr>\n",
       "    <tr>\n",
       "      <th>min</th>\n",
       "      <td>-54.808030</td>\n",
       "      <td>-159.727596</td>\n",
       "    </tr>\n",
       "    <tr>\n",
       "      <th>25%</th>\n",
       "      <td>11.042850</td>\n",
       "      <td>-58.473080</td>\n",
       "    </tr>\n",
       "    <tr>\n",
       "      <th>50%</th>\n",
       "      <td>19.036810</td>\n",
       "      <td>72.834830</td>\n",
       "    </tr>\n",
       "    <tr>\n",
       "      <th>75%</th>\n",
       "      <td>28.456000</td>\n",
       "      <td>77.209100</td>\n",
       "    </tr>\n",
       "    <tr>\n",
       "      <th>max</th>\n",
       "      <td>70.071800</td>\n",
       "      <td>174.740000</td>\n",
       "    </tr>\n",
       "  </tbody>\n",
       "</table>\n",
       "</div>"
      ],
      "text/plain": [
       "            latitude      longitude\n",
       "count  557362.000000  557362.000000\n",
       "mean       18.138385      27.285771\n",
       "std        20.455801      67.577194\n",
       "min       -54.808030    -159.727596\n",
       "25%        11.042850     -58.473080\n",
       "50%        19.036810      72.834830\n",
       "75%        28.456000      77.209100\n",
       "max        70.071800     174.740000"
      ]
     },
     "execution_count": 10,
     "metadata": {},
     "output_type": "execute_result"
    }
   ],
   "source": [
    "IndividualCases.describe()"
   ]
  },
  {
   "cell_type": "code",
   "execution_count": 11,
   "metadata": {},
   "outputs": [
    {
     "data": {
      "text/html": [
       "<div>\n",
       "<style scoped>\n",
       "    .dataframe tbody tr th:only-of-type {\n",
       "        vertical-align: middle;\n",
       "    }\n",
       "\n",
       "    .dataframe tbody tr th {\n",
       "        vertical-align: top;\n",
       "    }\n",
       "\n",
       "    .dataframe thead th {\n",
       "        text-align: right;\n",
       "    }\n",
       "</style>\n",
       "<table border=\"1\" class=\"dataframe\">\n",
       "  <thead>\n",
       "    <tr style=\"text-align: right;\">\n",
       "      <th></th>\n",
       "      <th>Lat</th>\n",
       "      <th>Long_</th>\n",
       "      <th>Confirmed</th>\n",
       "      <th>Deaths</th>\n",
       "      <th>Recovered</th>\n",
       "      <th>Active</th>\n",
       "      <th>Incidence_Rate</th>\n",
       "      <th>Case-Fatality_Ratio</th>\n",
       "    </tr>\n",
       "  </thead>\n",
       "  <tbody>\n",
       "    <tr>\n",
       "      <th>count</th>\n",
       "      <td>3874.000000</td>\n",
       "      <td>3874.000000</td>\n",
       "      <td>3.954000e+03</td>\n",
       "      <td>3954.000000</td>\n",
       "      <td>3.954000e+03</td>\n",
       "      <td>3.952000e+03</td>\n",
       "      <td>3874.000000</td>\n",
       "      <td>3906.000000</td>\n",
       "    </tr>\n",
       "    <tr>\n",
       "      <th>mean</th>\n",
       "      <td>35.987924</td>\n",
       "      <td>-72.337046</td>\n",
       "      <td>7.760496e+03</td>\n",
       "      <td>241.740769</td>\n",
       "      <td>5.291398e+03</td>\n",
       "      <td>2.228632e+03</td>\n",
       "      <td>1538.572813</td>\n",
       "      <td>2.355818</td>\n",
       "    </tr>\n",
       "    <tr>\n",
       "      <th>std</th>\n",
       "      <td>12.872793</td>\n",
       "      <td>53.019022</td>\n",
       "      <td>4.184036e+04</td>\n",
       "      <td>1476.661533</td>\n",
       "      <td>5.315287e+04</td>\n",
       "      <td>4.440693e+04</td>\n",
       "      <td>1368.457332</td>\n",
       "      <td>3.538503</td>\n",
       "    </tr>\n",
       "    <tr>\n",
       "      <th>min</th>\n",
       "      <td>-52.368000</td>\n",
       "      <td>-174.159600</td>\n",
       "      <td>0.000000e+00</td>\n",
       "      <td>0.000000</td>\n",
       "      <td>0.000000e+00</td>\n",
       "      <td>-2.577446e+06</td>\n",
       "      <td>0.000000</td>\n",
       "      <td>0.000000</td>\n",
       "    </tr>\n",
       "    <tr>\n",
       "      <th>25%</th>\n",
       "      <td>33.270421</td>\n",
       "      <td>-96.611164</td>\n",
       "      <td>1.370000e+02</td>\n",
       "      <td>1.000000</td>\n",
       "      <td>0.000000e+00</td>\n",
       "      <td>1.140000e+02</td>\n",
       "      <td>618.904146</td>\n",
       "      <td>0.637729</td>\n",
       "    </tr>\n",
       "    <tr>\n",
       "      <th>50%</th>\n",
       "      <td>37.938284</td>\n",
       "      <td>-86.878438</td>\n",
       "      <td>4.985000e+02</td>\n",
       "      <td>9.000000</td>\n",
       "      <td>0.000000e+00</td>\n",
       "      <td>4.210000e+02</td>\n",
       "      <td>1204.351179</td>\n",
       "      <td>1.633422</td>\n",
       "    </tr>\n",
       "    <tr>\n",
       "      <th>75%</th>\n",
       "      <td>42.158587</td>\n",
       "      <td>-77.639009</td>\n",
       "      <td>2.129000e+03</td>\n",
       "      <td>48.000000</td>\n",
       "      <td>0.000000e+00</td>\n",
       "      <td>1.453000e+03</td>\n",
       "      <td>2097.993633</td>\n",
       "      <td>3.006621</td>\n",
       "    </tr>\n",
       "    <tr>\n",
       "      <th>max</th>\n",
       "      <td>71.706900</td>\n",
       "      <td>178.065000</td>\n",
       "      <td>1.167496e+06</td>\n",
       "      <td>37076.000000</td>\n",
       "      <td>2.577446e+06</td>\n",
       "      <td>3.379130e+05</td>\n",
       "      <td>14871.183644</td>\n",
       "      <td>108.812950</td>\n",
       "    </tr>\n",
       "  </tbody>\n",
       "</table>\n",
       "</div>"
      ],
      "text/plain": [
       "               Lat        Long_     Confirmed        Deaths     Recovered  \\\n",
       "count  3874.000000  3874.000000  3.954000e+03   3954.000000  3.954000e+03   \n",
       "mean     35.987924   -72.337046  7.760496e+03    241.740769  5.291398e+03   \n",
       "std      12.872793    53.019022  4.184036e+04   1476.661533  5.315287e+04   \n",
       "min     -52.368000  -174.159600  0.000000e+00      0.000000  0.000000e+00   \n",
       "25%      33.270421   -96.611164  1.370000e+02      1.000000  0.000000e+00   \n",
       "50%      37.938284   -86.878438  4.985000e+02      9.000000  0.000000e+00   \n",
       "75%      42.158587   -77.639009  2.129000e+03     48.000000  0.000000e+00   \n",
       "max      71.706900   178.065000  1.167496e+06  37076.000000  2.577446e+06   \n",
       "\n",
       "             Active  Incidence_Rate  Case-Fatality_Ratio  \n",
       "count  3.952000e+03     3874.000000          3906.000000  \n",
       "mean   2.228632e+03     1538.572813             2.355818  \n",
       "std    4.440693e+04     1368.457332             3.538503  \n",
       "min   -2.577446e+06        0.000000             0.000000  \n",
       "25%    1.140000e+02      618.904146             0.637729  \n",
       "50%    4.210000e+02     1204.351179             1.633422  \n",
       "75%    1.453000e+03     2097.993633             3.006621  \n",
       "max    3.379130e+05    14871.183644           108.812950  "
      ]
     },
     "execution_count": 11,
     "metadata": {},
     "output_type": "execute_result"
    }
   ],
   "source": [
    "ProcessedLocations.describe()"
   ]
  },
  {
   "cell_type": "code",
   "execution_count": 12,
   "metadata": {},
   "outputs": [],
   "source": [
    "IndividualCasesCorrelation = IndividualCases.corr()"
   ]
  },
  {
   "cell_type": "code",
   "execution_count": 13,
   "metadata": {},
   "outputs": [
    {
     "data": {
      "text/plain": [
       "<matplotlib.axes._subplots.AxesSubplot at 0x7ffb798c9e50>"
      ]
     },
     "execution_count": 13,
     "metadata": {},
     "output_type": "execute_result"
    },
    {
     "data": {
      "image/png": "[encoded data removed]",
      "text/plain": [
       "<Figure size 432x288 with 2 Axes>"
      ]
     },
     "metadata": {
      "needs_background": "light"
     },
     "output_type": "display_data"
    }
   ],
   "source": [
    "sns.heatmap(IndividualCasesCorrelation, annot = True)"
   ]
  },
  {
   "cell_type": "code",
   "execution_count": 14,
   "metadata": {},
   "outputs": [],
   "source": [
    "ProcessedLocationsCorrelation = ProcessedLocations.corr()"
   ]
  },
  {
   "cell_type": "code",
   "execution_count": 16,
   "metadata": {},
   "outputs": [
    {
     "data": {
      "text/plain": [
       "<matplotlib.axes._subplots.AxesSubplot at 0x7ffb79da4950>"
      ]
     },
     "execution_count": 16,
     "metadata": {},
     "output_type": "execute_result"
    },
    {
     "data": {
      "image/png": "[encoded data removed]",
      "text/plain": [
       "<Figure size 432x288 with 2 Axes>"
      ]
     },
     "metadata": {
      "needs_background": "light"
     },
     "output_type": "display_data"
    }
   ],
   "source": [
    "sns.heatmap(ProcessedLocationsCorrelation, annot = True, cmap= 'coolwarm')"
   ]
  },
  {
   "cell_type": "code",
   "execution_count": 17,
   "metadata": {},
   "outputs": [
    {
     "data": {
      "text/plain": [
       "<matplotlib.axes._subplots.AxesSubplot at 0x7ffb79ec0f90>"
      ]
     },
     "execution_count": 17,
     "metadata": {},
     "output_type": "execute_result"
    },
    {
     "data": {
      "image/png": "[encoded data removed]",
      "text/plain": [
       "<Figure size 432x288 with 2 Axes>"
      ]
     },
     "metadata": {
      "needs_background": "light"
     },
     "output_type": "display_data"
    }
   ],
   "source": [
    "ProcessedLocationsmatrix = np.triu(ProcessedLocationsCorrelation)\n",
    "sns.heatmap(ProcessedLocationsCorrelation, annot=True, mask=ProcessedLocationsmatrix)"
   ]
  },
  {
   "cell_type": "code",
   "execution_count": 18,
   "metadata": {},
   "outputs": [
    {
     "data": {
      "text/plain": [
       "<matplotlib.axes._subplots.AxesSubplot at 0x7ffb7a239410>"
      ]
     },
     "execution_count": 18,
     "metadata": {},
     "output_type": "execute_result"
    },
    {
     "data": {
      "image/png": "[encoded data removed]",
      "text/plain": [
       "<Figure size 432x288 with 2 Axes>"
      ]
     },
     "metadata": {
      "needs_background": "light"
     },
     "output_type": "display_data"
    }
   ],
   "source": [
    "ProcessedLocationsmatrix = np.tril(ProcessedLocationsCorrelation)\n",
    "sns.heatmap(ProcessedLocationsCorrelation, annot=True, mask=ProcessedLocationsmatrix)"
   ]
  },
  {
   "cell_type": "code",
   "execution_count": null,
   "metadata": {},
   "outputs": [],
   "source": []
  }
 ],
 "metadata": {
  "kernelspec": {
   "display_name": "Python 3",
   "language": "python",
   "name": "python3"
  },
  "language_info": {
   "codemirror_mode": {
    "name": "ipython",
    "version": 3
   },
   "file_extension": ".py",
   "mimetype": "text/x-python",
   "name": "python",
   "nbconvert_exporter": "python",
   "pygments_lexer": "ipython3",
   "version": "3.7.4"
  }
 },
 "nbformat": 4,
 "nbformat_minor": 4
}
