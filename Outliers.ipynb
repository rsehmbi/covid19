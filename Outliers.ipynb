{
 "cells": [
  {
   "cell_type": "markdown",
   "metadata": {},
   "source": [
    "# Outlier Detection"
   ]
  },
  {
   "cell_type": "code",
   "execution_count": 1,
   "metadata": {},
   "outputs": [],
   "source": [
    "import pandas as pd\n",
    "import numpy as np\n",
    "import matplotlib.pyplot as plt\n",
    "import seaborn as sns\n",
    "from pandas.plotting import scatter_matrix\n",
    "from scipy import stats"
   ]
  },
  {
   "cell_type": "code",
   "execution_count": 2,
   "metadata": {},
   "outputs": [],
   "source": [
    "indi_data=pd.read_csv(\"dataset/CleanedIndividualCases.csv\")\n",
    "loc_data=pd.read_csv(\"dataset/CleanedLocations.csv\")"
   ]
  },
  {
   "cell_type": "code",
   "execution_count": 3,
   "metadata": {},
   "outputs": [],
   "source": [
    "loc_data.columns=loc_data.columns.str.replace('-','')"
   ]
  },
  {
   "cell_type": "code",
   "execution_count": 4,
   "metadata": {},
   "outputs": [
    {
     "data": {
      "text/html": [
       "<div>\n",
       "<style scoped>\n",
       "    .dataframe tbody tr th:only-of-type {\n",
       "        vertical-align: middle;\n",
       "    }\n",
       "\n",
       "    .dataframe tbody tr th {\n",
       "        vertical-align: top;\n",
       "    }\n",
       "\n",
       "    .dataframe thead th {\n",
       "        text-align: right;\n",
       "    }\n",
       "</style>\n",
       "<table border=\"1\" class=\"dataframe\">\n",
       "  <thead>\n",
       "    <tr style=\"text-align: right;\">\n",
       "      <th></th>\n",
       "      <th>Unnamed: 0</th>\n",
       "      <th>age</th>\n",
       "      <th>sex</th>\n",
       "      <th>province</th>\n",
       "      <th>country</th>\n",
       "      <th>latitude</th>\n",
       "      <th>longitude</th>\n",
       "      <th>date_confirmation</th>\n",
       "      <th>outcome</th>\n",
       "    </tr>\n",
       "  </thead>\n",
       "  <tbody>\n",
       "    <tr>\n",
       "      <th>0</th>\n",
       "      <td>0</td>\n",
       "      <td>8.0</td>\n",
       "      <td>male</td>\n",
       "      <td>Gujarat</td>\n",
       "      <td>India</td>\n",
       "      <td>23.02776</td>\n",
       "      <td>72.60027</td>\n",
       "      <td>15.04.2020</td>\n",
       "      <td>hospitalized</td>\n",
       "    </tr>\n",
       "    <tr>\n",
       "      <th>1</th>\n",
       "      <td>1</td>\n",
       "      <td>21.0</td>\n",
       "      <td>male</td>\n",
       "      <td>Moyobamba</td>\n",
       "      <td>Peru</td>\n",
       "      <td>-6.03271</td>\n",
       "      <td>-76.97230</td>\n",
       "      <td>09.05.2020</td>\n",
       "      <td>nonhospitalized</td>\n",
       "    </tr>\n",
       "    <tr>\n",
       "      <th>2</th>\n",
       "      <td>2</td>\n",
       "      <td>94.0</td>\n",
       "      <td>female</td>\n",
       "      <td>Lima</td>\n",
       "      <td>Peru</td>\n",
       "      <td>-12.04318</td>\n",
       "      <td>-77.02824</td>\n",
       "      <td>15.04.2020</td>\n",
       "      <td>nonhospitalized</td>\n",
       "    </tr>\n",
       "    <tr>\n",
       "      <th>3</th>\n",
       "      <td>3</td>\n",
       "      <td>8.0</td>\n",
       "      <td>male</td>\n",
       "      <td>Gujarat</td>\n",
       "      <td>India</td>\n",
       "      <td>23.02776</td>\n",
       "      <td>72.60027</td>\n",
       "      <td>22.05.2020</td>\n",
       "      <td>hospitalized</td>\n",
       "    </tr>\n",
       "    <tr>\n",
       "      <th>4</th>\n",
       "      <td>4</td>\n",
       "      <td>2.0</td>\n",
       "      <td>female</td>\n",
       "      <td>Coronel Portillo</td>\n",
       "      <td>Peru</td>\n",
       "      <td>-8.40921</td>\n",
       "      <td>-74.55572</td>\n",
       "      <td>30.04.2020</td>\n",
       "      <td>nonhospitalized</td>\n",
       "    </tr>\n",
       "  </tbody>\n",
       "</table>\n",
       "</div>"
      ],
      "text/plain": [
       "   Unnamed: 0   age     sex          province country  latitude  longitude  \\\n",
       "0           0   8.0    male           Gujarat   India  23.02776   72.60027   \n",
       "1           1  21.0    male         Moyobamba    Peru  -6.03271  -76.97230   \n",
       "2           2  94.0  female              Lima    Peru -12.04318  -77.02824   \n",
       "3           3   8.0    male           Gujarat   India  23.02776   72.60027   \n",
       "4           4   2.0  female  Coronel Portillo    Peru  -8.40921  -74.55572   \n",
       "\n",
       "  date_confirmation          outcome  \n",
       "0        15.04.2020     hospitalized  \n",
       "1        09.05.2020  nonhospitalized  \n",
       "2        15.04.2020  nonhospitalized  \n",
       "3        22.05.2020     hospitalized  \n",
       "4        30.04.2020  nonhospitalized  "
      ]
     },
     "execution_count": 4,
     "metadata": {},
     "output_type": "execute_result"
    }
   ],
   "source": [
    "indi_data.head()"
   ]
  },
  {
   "cell_type": "code",
   "execution_count": 5,
   "metadata": {},
   "outputs": [
    {
     "data": {
      "text/html": [
       "<div>\n",
       "<style scoped>\n",
       "    .dataframe tbody tr th:only-of-type {\n",
       "        vertical-align: middle;\n",
       "    }\n",
       "\n",
       "    .dataframe tbody tr th {\n",
       "        vertical-align: top;\n",
       "    }\n",
       "\n",
       "    .dataframe thead th {\n",
       "        text-align: right;\n",
       "    }\n",
       "</style>\n",
       "<table border=\"1\" class=\"dataframe\">\n",
       "  <thead>\n",
       "    <tr style=\"text-align: right;\">\n",
       "      <th></th>\n",
       "      <th>Unnamed: 0</th>\n",
       "      <th>Province_State</th>\n",
       "      <th>Country_Region</th>\n",
       "      <th>Last_Update</th>\n",
       "      <th>Lat</th>\n",
       "      <th>Long_</th>\n",
       "      <th>Confirmed</th>\n",
       "      <th>Deaths</th>\n",
       "      <th>Recovered</th>\n",
       "      <th>Active</th>\n",
       "      <th>Combined_Key</th>\n",
       "      <th>Incidence_Rate</th>\n",
       "      <th>CaseFatality_Ratio</th>\n",
       "    </tr>\n",
       "  </thead>\n",
       "  <tbody>\n",
       "    <tr>\n",
       "      <th>0</th>\n",
       "      <td>0</td>\n",
       "      <td>Lakshadweep</td>\n",
       "      <td>India</td>\n",
       "      <td>2020-09-20 04:22:56</td>\n",
       "      <td>13.699997</td>\n",
       "      <td>72.183333</td>\n",
       "      <td>0</td>\n",
       "      <td>0</td>\n",
       "      <td>0</td>\n",
       "      <td>0.0</td>\n",
       "      <td>Lakshadweep, India</td>\n",
       "      <td>0.0</td>\n",
       "      <td>0.0</td>\n",
       "    </tr>\n",
       "    <tr>\n",
       "      <th>1</th>\n",
       "      <td>1</td>\n",
       "      <td>Colorado</td>\n",
       "      <td>US</td>\n",
       "      <td>2020-09-20 04:22:56</td>\n",
       "      <td>38.432609</td>\n",
       "      <td>-102.739215</td>\n",
       "      <td>0</td>\n",
       "      <td>0</td>\n",
       "      <td>0</td>\n",
       "      <td>0.0</td>\n",
       "      <td>Kiowa, Colorado, US</td>\n",
       "      <td>0.0</td>\n",
       "      <td>0.0</td>\n",
       "    </tr>\n",
       "    <tr>\n",
       "      <th>2</th>\n",
       "      <td>2</td>\n",
       "      <td>Montana</td>\n",
       "      <td>US</td>\n",
       "      <td>2020-09-20 04:22:56</td>\n",
       "      <td>45.519797</td>\n",
       "      <td>-104.539554</td>\n",
       "      <td>0</td>\n",
       "      <td>0</td>\n",
       "      <td>0</td>\n",
       "      <td>0.0</td>\n",
       "      <td>Carter, Montana, US</td>\n",
       "      <td>0.0</td>\n",
       "      <td>0.0</td>\n",
       "    </tr>\n",
       "    <tr>\n",
       "      <th>3</th>\n",
       "      <td>3</td>\n",
       "      <td>Montana</td>\n",
       "      <td>US</td>\n",
       "      <td>2020-09-20 04:22:56</td>\n",
       "      <td>47.118246</td>\n",
       "      <td>-108.250888</td>\n",
       "      <td>0</td>\n",
       "      <td>0</td>\n",
       "      <td>0</td>\n",
       "      <td>0.0</td>\n",
       "      <td>Petroleum, Montana, US</td>\n",
       "      <td>0.0</td>\n",
       "      <td>0.0</td>\n",
       "    </tr>\n",
       "    <tr>\n",
       "      <th>4</th>\n",
       "      <td>4</td>\n",
       "      <td>Nebraska</td>\n",
       "      <td>US</td>\n",
       "      <td>2020-09-20 04:22:56</td>\n",
       "      <td>41.913117</td>\n",
       "      <td>-99.976778</td>\n",
       "      <td>0</td>\n",
       "      <td>0</td>\n",
       "      <td>0</td>\n",
       "      <td>0.0</td>\n",
       "      <td>Blaine, Nebraska, US</td>\n",
       "      <td>0.0</td>\n",
       "      <td>0.0</td>\n",
       "    </tr>\n",
       "  </tbody>\n",
       "</table>\n",
       "</div>"
      ],
      "text/plain": [
       "   Unnamed: 0 Province_State Country_Region          Last_Update        Lat  \\\n",
       "0           0    Lakshadweep          India  2020-09-20 04:22:56  13.699997   \n",
       "1           1       Colorado             US  2020-09-20 04:22:56  38.432609   \n",
       "2           2        Montana             US  2020-09-20 04:22:56  45.519797   \n",
       "3           3        Montana             US  2020-09-20 04:22:56  47.118246   \n",
       "4           4       Nebraska             US  2020-09-20 04:22:56  41.913117   \n",
       "\n",
       "        Long_  Confirmed  Deaths  Recovered  Active            Combined_Key  \\\n",
       "0   72.183333          0       0          0     0.0      Lakshadweep, India   \n",
       "1 -102.739215          0       0          0     0.0     Kiowa, Colorado, US   \n",
       "2 -104.539554          0       0          0     0.0     Carter, Montana, US   \n",
       "3 -108.250888          0       0          0     0.0  Petroleum, Montana, US   \n",
       "4  -99.976778          0       0          0     0.0    Blaine, Nebraska, US   \n",
       "\n",
       "   Incidence_Rate  CaseFatality_Ratio  \n",
       "0             0.0                 0.0  \n",
       "1             0.0                 0.0  \n",
       "2             0.0                 0.0  \n",
       "3             0.0                 0.0  \n",
       "4             0.0                 0.0  "
      ]
     },
     "execution_count": 5,
     "metadata": {},
     "output_type": "execute_result"
    }
   ],
   "source": [
    "loc_data.head()"
   ]
  },
  {
   "cell_type": "markdown",
   "metadata": {},
   "source": [
    "## Detecting Outliers in Individual Dataset"
   ]
  },
  {
   "cell_type": "code",
   "execution_count": 7,
   "metadata": {},
   "outputs": [
    {
     "data": {
      "image/png": "[encoded data removed]",
      "text/plain": [
       "<Figure size 432x288 with 2 Axes>"
      ]
     },
     "metadata": {
      "needs_background": "light"
     },
     "output_type": "display_data"
    }
   ],
   "source": [
    "indi_data_correlation=indi_data.corr()\n",
    "svm = sns.heatmap(indi_data_correlation, annot = True)\n",
    "figure = svm.get_figure()\n",
    "figure.savefig('OutlierVisuals/OuliersDataHeatMap.png', dpi=500)"
   ]
  },
  {
   "cell_type": "markdown",
   "metadata": {},
   "source": [
    "### The correlation coefficient between age and latitude is 0.079 and between age and longitude is 0.011. This indicates that location has a weak relation with age in the given dataset."
   ]
  },
  {
   "cell_type": "code",
   "execution_count": 8,
   "metadata": {},
   "outputs": [
    {
     "data": {
      "image/png": "[encoded data removed]",
      "text/plain": [
       "<Figure size 720x360 with 1 Axes>"
      ]
     },
     "metadata": {
      "needs_background": "light"
     },
     "output_type": "display_data"
    },
    {
     "data": {
      "text/plain": [
       "<Figure size 432x288 with 0 Axes>"
      ]
     },
     "metadata": {},
     "output_type": "display_data"
    }
   ],
   "source": [
    "fig, ax = plt.subplots(figsize=(10,5))\n",
    "ax.scatter(indi_data['latitude'], indi_data['longitude'])\n",
    "ax.set_xlabel('Latitude')\n",
    "ax.set_ylabel('Longitude')\n",
    "plt.show()\n",
    "plt.savefig('OutlierVisuals/AgeLatitude.png')"
   ]
  },
  {
   "cell_type": "markdown",
   "metadata": {},
   "source": [
    "### Latitude and Longitude do not have significant outliers"
   ]
  },
  {
   "cell_type": "code",
   "execution_count": 10,
   "metadata": {},
   "outputs": [
    {
     "data": {
      "image/png": "[encoded data removed]",
      "text/plain": [
       "<Figure size 432x288 with 1 Axes>"
      ]
     },
     "metadata": {
      "needs_background": "light"
     },
     "output_type": "display_data"
    }
   ],
   "source": [
    "latLong = sns.boxplot(x=indi_data['age'])\n",
    "figure = latLong.get_figure()\n",
    "figure.savefig('OutlierVisuals/latLong.png', dpi=500)"
   ]
  },
  {
   "cell_type": "markdown",
   "metadata": {},
   "source": [
    "### Age attribute has an extreme outlier value of 121yrs and age group in the range of 101-106yrs are also considered as outliers for this attribute"
   ]
  },
  {
   "cell_type": "code",
   "execution_count": 11,
   "metadata": {},
   "outputs": [
    {
     "name": "stdout",
     "output_type": "stream",
     "text": [
      "<class 'pandas.core.frame.DataFrame'>\n",
      "RangeIndex: 550347 entries, 0 to 550346\n",
      "Data columns (total 9 columns):\n",
      "Unnamed: 0           550347 non-null int64\n",
      "age                  550347 non-null float64\n",
      "sex                  550347 non-null object\n",
      "province             550347 non-null object\n",
      "country              550347 non-null object\n",
      "latitude             550347 non-null float64\n",
      "longitude            550347 non-null float64\n",
      "date_confirmation    550347 non-null object\n",
      "outcome              550347 non-null object\n",
      "dtypes: float64(3), int64(1), object(5)\n",
      "memory usage: 37.8+ MB\n"
     ]
    }
   ],
   "source": [
    "indi_data.info()"
   ]
  },
  {
   "cell_type": "markdown",
   "metadata": {},
   "source": [
    "## Detecting Outliers in Location Dataset"
   ]
  },
  {
   "cell_type": "code",
   "execution_count": 12,
   "metadata": {},
   "outputs": [
    {
     "data": {
      "image/png": "[encoded data removed]",
      "text/plain": [
       "<Figure size 432x288 with 1 Axes>"
      ]
     },
     "metadata": {
      "needs_background": "light"
     },
     "output_type": "display_data"
    }
   ],
   "source": [
    "df=pd.DataFrame(data=loc_data, columns=['Lat', 'Long_'])\n",
    "df = df.boxplot()\n",
    "df.figure.savefig(\"OutlierVisuals/latLongBoxplot.png\")"
   ]
  },
  {
   "cell_type": "markdown",
   "metadata": {},
   "source": [
    "### There are not outliers in the latitude and longitude data columns"
   ]
  },
  {
   "cell_type": "code",
   "execution_count": 13,
   "metadata": {},
   "outputs": [
    {
     "data": {
      "image/png": "[encoded data removed]",
      "text/plain": [
       "<Figure size 432x288 with 1 Axes>"
      ]
     },
     "metadata": {
      "needs_background": "light"
     },
     "output_type": "display_data"
    }
   ],
   "source": [
    "df=pd.DataFrame(data=loc_data, columns=['Confirmed', 'Recovered','Active','Incidence_Rate'])\n",
    "df = df.boxplot()\n",
    "df.figure.savefig(\"OutlierVisuals/latLongBoxplot2.png\")"
   ]
  },
  {
   "cell_type": "markdown",
   "metadata": {},
   "source": [
    "### Confirmed, Active features and Recovered cases contain outliers whereas incidence_rate does not have extreme values(outliers)."
   ]
  },
  {
   "cell_type": "code",
   "execution_count": 14,
   "metadata": {},
   "outputs": [
    {
     "data": {
      "image/png": "[encoded data removed]",
      "text/plain": [
       "<Figure size 432x288 with 1 Axes>"
      ]
     },
     "metadata": {
      "needs_background": "light"
     },
     "output_type": "display_data"
    }
   ],
   "source": [
    "df=pd.DataFrame(data=loc_data, columns=['Deaths'])\n",
    "df = df.boxplot()\n",
    "df.figure.savefig(\"OutlierVisuals/deaths.png\")"
   ]
  },
  {
   "cell_type": "markdown",
   "metadata": {},
   "source": [
    "### Death attribute has a few adverse outliers"
   ]
  },
  {
   "cell_type": "code",
   "execution_count": 15,
   "metadata": {},
   "outputs": [
    {
     "data": {
      "image/png": "[encoded data removed]",
      "text/plain": [
       "<Figure size 432x288 with 1 Axes>"
      ]
     },
     "metadata": {
      "needs_background": "light"
     },
     "output_type": "display_data"
    }
   ],
   "source": [
    "df=pd.DataFrame(data=loc_data, columns=['CaseFatality_Ratio'])\n",
    "df = df.boxplot()\n",
    "df.figure.savefig(\"OutlierVisuals/fatalityRatio.png\")"
   ]
  },
  {
   "cell_type": "markdown",
   "metadata": {},
   "source": [
    "### Boxplot for Case-Fatality_ratio shows that it has an outlier above the value of 100 which indicates that the no.of deaths are more than confirmed cases, which is not possible. "
   ]
  },
  {
   "cell_type": "markdown",
   "metadata": {},
   "source": [
    "\n",
    "## Dealing With Outliers: Finding Actual Values"
   ]
  },
  {
   "cell_type": "code",
   "execution_count": 16,
   "metadata": {},
   "outputs": [],
   "source": [
    "sub_loc_data=loc_data.drop(['Province_State','Country_Region','Last_Update','Combined_Key'], axis=1)\n",
    "#z = np.abs(stats.zscore(sub_loc_data['Confirmed'].dropna()))\n",
    "#print(z)"
   ]
  },
  {
   "cell_type": "code",
   "execution_count": 17,
   "metadata": {},
   "outputs": [],
   "source": [
    "sub_indi_data=indi_data.drop(['province','country','date_confirmation','outcome'], axis=1)"
   ]
  },
  {
   "cell_type": "markdown",
   "metadata": {},
   "source": [
    "### Z-score for Calculation"
   ]
  },
  {
   "cell_type": "code",
   "execution_count": 18,
   "metadata": {},
   "outputs": [],
   "source": [
    "outliers=[]\n",
    "def z_outlier(data,threshold=0,negativeAllowed=0):\n",
    "    global outliers\n",
    "    outliers=[]\n",
    "    m=np.mean(data)\n",
    "    sd=np.std(data)\n",
    "    threshold=(3*sd)+m\n",
    "    \n",
    "    for i in data:\n",
    "        z_score=(i-m/sd)\n",
    "        if not negativeAllowed:\n",
    "            if np.abs(z_score)>threshold:\n",
    "                outliers.append(i)\n",
    "        else:\n",
    "            if i<0:\n",
    "                outliers.append(i)\n",
    "    return outliers,threshold\n",
    "    \n",
    "    \n"
   ]
  },
  {
   "cell_type": "markdown",
   "metadata": {},
   "source": [
    "### For 'Age' Feature"
   ]
  },
  {
   "cell_type": "code",
   "execution_count": 19,
   "metadata": {},
   "outputs": [
    {
     "name": "stdout",
     "output_type": "stream",
     "text": [
      "[120.0, 121.0] \n",
      " 106.3557558683375\n"
     ]
    }
   ],
   "source": [
    "outliers_age=None\n",
    "threshold_age=0\n",
    "outliers_age,threshold_age=z_outlier(sub_indi_data['age'])\n",
    "print(outliers_age,\"\\n\",threshold_age)"
   ]
  },
  {
   "cell_type": "markdown",
   "metadata": {},
   "source": [
    "### Here the 'age' column has two outlier namely 120 and 121 years. Even though the data is isolated from the rest of the data, we cannot entirely dismiss the possibility of this occurence. There might be people in this age range and thus the values cannot be filtered out as unrealistic"
   ]
  },
  {
   "cell_type": "markdown",
   "metadata": {},
   "source": [
    "### For 'Latitude' Feature (Individual Dataset)"
   ]
  },
  {
   "cell_type": "code",
   "execution_count": 20,
   "metadata": {},
   "outputs": [
    {
     "name": "stdout",
     "output_type": "stream",
     "text": [
      "[] \n",
      " 79.63105107309502\n"
     ]
    }
   ],
   "source": [
    "outliers_latitude=None\n",
    "threshold_latitude=0\n",
    "outliers_latitude,threshold_latitude=z_outlier(sub_indi_data['latitude'])\n",
    "print(outliers_latitude,\"\\n\",threshold_latitude)"
   ]
  },
  {
   "cell_type": "markdown",
   "metadata": {},
   "source": [
    "### For 'Longitude' Feature (Individual Dataset) "
   ]
  },
  {
   "cell_type": "code",
   "execution_count": 21,
   "metadata": {},
   "outputs": [
    {
     "name": "stdout",
     "output_type": "stream",
     "text": [
      "[] \n",
      " 79.63105107309502\n"
     ]
    }
   ],
   "source": [
    "outliers_longitude=None\n",
    "threshold_longitude=0\n",
    "outliers_longitude,threshold_longitude=z_outlier(sub_indi_data['latitude'])\n",
    "print(outliers_longitude,\"\\n\",threshold_longitude)"
   ]
  },
  {
   "cell_type": "markdown",
   "metadata": {},
   "source": [
    "### We can conclude that the Individual Data does not have anyNumeric Outliers that need to be subjected to Filtering"
   ]
  },
  {
   "cell_type": "markdown",
   "metadata": {},
   "source": [
    "### For 'Confirmed' Feature"
   ]
  },
  {
   "cell_type": "code",
   "execution_count": 22,
   "metadata": {},
   "outputs": [
    {
     "name": "stdout",
     "output_type": "stream",
     "text": [
      "[622934, 347372, 444978, 240687, 419043, 315597, 283460, 659656, 131573, 294210, 233600, 183096, 182856, 167333, 268009, 220205, 163479, 141042, 174140, 251261, 205250, 931673, 282535, 250490, 609558, 152858, 165218, 238828, 502982, 1167496, 171341, 530908, 169169, 342788, 218772, 133626, 349167, 275633, 187045, 139245, 259817, 166516, 138576, 336622] \n",
      " 131449.2784269202\n"
     ]
    }
   ],
   "source": [
    "outliers_confirmed=None\n",
    "threshold_confirmed=0\n",
    "outliers_confirmed,threshold_confirmed=z_outlier(sub_loc_data['Confirmed'])\n",
    "print(outliers_confirmed,\"\\n\",threshold_confirmed)"
   ]
  },
  {
   "cell_type": "markdown",
   "metadata": {},
   "source": [
    "### We infer that the Confirmed Cases have outliers as shown above. We do not intend to remove or filter out these outliers from the dataset as they can possibly be correct values and this is subject to further sampling/research to confirm their accuracy."
   ]
  },
  {
   "cell_type": "markdown",
   "metadata": {},
   "source": [
    "### For 'Active' Feature"
   ]
  },
  {
   "cell_type": "code",
   "execution_count": 23,
   "metadata": {},
   "outputs": [
    {
     "name": "stdout",
     "output_type": "stream",
     "text": [
      "[-2577446.0, 337913.0, 301273.0, 335158.0, 137310.0, 136000.0, 253487.0, 163461.0, 133419.0, 299546.0] \n",
      " 133281.38178498187\n"
     ]
    }
   ],
   "source": [
    "outliers_active=None \n",
    "threshold_active=0\n",
    "outliers_active,threshold_active=z_outlier(sub_loc_data['Active'])\n",
    "print(outliers_active,\"\\n\",threshold_active)"
   ]
  },
  {
   "cell_type": "markdown",
   "metadata": {},
   "source": [
    "### As we can see, the outliers in 'Active' Column contain some negative values and some values that are higher than any value in the confirmed cases column. Both of these scenarios are not possible, thus it is imperative to clean the dataset and get rid of these outliers"
   ]
  },
  {
   "cell_type": "markdown",
   "metadata": {},
   "source": [
    "### For 'Recoverd' Feature"
   ]
  },
  {
   "cell_type": "code",
   "execution_count": 24,
   "metadata": {},
   "outputs": [
    {
     "name": "stdout",
     "output_type": "stream",
     "text": [
      "[2577446, 478077, 254386, 174350, 357632, 249539, 209885, 589434, 280351, 206727, 170627, 172741, 233463, 204728, 228258, 194520, 780448, 269784, 205741, 519891, 201671, 394026, 834432, 475717, 270094, 190021, 236055] \n",
      " 161417.79202121022\n"
     ]
    }
   ],
   "source": [
    "outliers_recovered=None \n",
    "threshold_recovered=0\n",
    "outliers_recovered,threshold_recovered=z_outlier(sub_loc_data['Recovered'])\n",
    "print(outliers_recovered,\"\\n\",threshold_recovered)"
   ]
  },
  {
   "cell_type": "markdown",
   "metadata": {},
   "source": [
    "### We notice that among all the outliers in the recoverd column, the value 2577446 is very extreme and not possible as it is greated than any value in the Confirmed Cases. The rest of the values are still considerable and thus we remove only one extreme recovered number."
   ]
  },
  {
   "cell_type": "markdown",
   "metadata": {},
   "source": [
    "### For 'Deaths' Feature"
   ]
  },
  {
   "cell_type": "code",
   "execution_count": 25,
   "metadata": {},
   "outputs": [
    {
     "name": "stdout",
     "output_type": "stream",
     "text": [
      "[12799, 4913, 9944, 7586, 11084, 5750, 31085, 9448, 24118, 8491, 4930, 15940, 6221, 8801, 6656, 6451, 8004, 17634, 33927, 5797, 8998, 6408, 5244, 4907, 7808, 31791, 8685, 4869, 16917, 11545, 8936, 14009, 5044, 5797, 8999, 6330, 5157, 4939, 7315, 7243, 37076] \n",
      " 4671.168948032887\n"
     ]
    }
   ],
   "source": [
    "outliers_death=None \n",
    "threshold_death=0\n",
    "outliers_death,threshold_death=z_outlier(sub_loc_data['Deaths'])\n",
    "print(outliers_death,\"\\n\",threshold_death)"
   ]
  },
  {
   "cell_type": "markdown",
   "metadata": {},
   "source": [
    "### Even though the Death column has a few outliers we do not filter these values out because they could very well represent certain areas which were adversely hit by the pandemic and witnesses high date rates"
   ]
  },
  {
   "cell_type": "code",
   "execution_count": 26,
   "metadata": {},
   "outputs": [
    {
     "name": "stdout",
     "output_type": "stream",
     "text": [
      "[28.874629812438307, 16.181239059944332, 18.19901626939084, 13.672876431379251, 15.808308697681653, 15.532271584241409, 18.49447271451132, 13.932683790965454, 17.054917848300697, 13.984647592463364, 14.285714285714285, 14.285714285714285, 19.17808219178082, 16.62531017369727, 27.272727272727273, 13.655172413793109, 16.71826625386997, 16.9811320754717, 14.285714285714285, 28.57142857142857, 16.666666666666668, 50.0, 89.47368421052632, 27.807486631016044, 108.81294964028775, 48.44167408726626] \n",
      " 12.911658358937249\n"
     ]
    }
   ],
   "source": [
    "outliers_fatality=None \n",
    "threshold_fatality=0\n",
    "outliers_fatality,threshold_fatality=z_outlier(sub_loc_data['CaseFatality_Ratio'])\n",
    "print(outliers_fatality,\"\\n\",threshold_fatality)"
   ]
  },
  {
   "cell_type": "markdown",
   "metadata": {},
   "source": [
    "### The Case-Fatality Ratio has a number of outliers but there are some that are completely unrealistic. As the ratio= deaths/confirmed*100, this value can never surpass 100. Thus, values above and also near 100, need to be removed from the column."
   ]
  },
  {
   "cell_type": "code",
   "execution_count": 27,
   "metadata": {},
   "outputs": [
    {
     "name": "stdout",
     "output_type": "stream",
     "text": [
      "[] \n",
      " 74.22330557099205\n"
     ]
    }
   ],
   "source": [
    "outliers_lat=None \n",
    "threshold_lat=0\n",
    "outliers_lat,threshold_lat=z_outlier(sub_loc_data['Lat'])\n",
    "print(outliers_lat,\"\\n\",threshold_lat)"
   ]
  },
  {
   "cell_type": "markdown",
   "metadata": {},
   "source": [
    "## 3) Applying Outlier Removal Strategy to Original Location Dataset"
   ]
  },
  {
   "cell_type": "markdown",
   "metadata": {},
   "source": [
    "### Removing Outliers From 'Active' Feature of Location Dataset"
   ]
  },
  {
   "cell_type": "code",
   "execution_count": 28,
   "metadata": {},
   "outputs": [
    {
     "data": {
      "text/plain": [
       "Int64Index([35, 86, 343, 496, 604, 730, 831, 988, 1236, 3855], dtype='int64')"
      ]
     },
     "execution_count": 28,
     "metadata": {},
     "output_type": "execute_result"
    }
   ],
   "source": [
    "loc_data.where(loc_data.Active.isin(outliers_active)).dropna().index"
   ]
  },
  {
   "cell_type": "code",
   "execution_count": 29,
   "metadata": {},
   "outputs": [],
   "source": [
    "rev_loc_data=loc_data.query(f\"Active not in {outliers_active}\")"
   ]
  },
  {
   "cell_type": "code",
   "execution_count": 30,
   "metadata": {},
   "outputs": [
    {
     "name": "stdout",
     "output_type": "stream",
     "text": [
      "      Unnamed: 0 Province_State Country_Region          Last_Update  \\\n",
      "0              0    Lakshadweep          India  2020-09-20 04:22:56   \n",
      "1              1       Colorado             US  2020-09-20 04:22:56   \n",
      "2              2        Montana             US  2020-09-20 04:22:56   \n",
      "3              3        Montana             US  2020-09-20 04:22:56   \n",
      "4              4       Nebraska             US  2020-09-20 04:22:56   \n",
      "...          ...            ...            ...                  ...   \n",
      "3896        3896      Tennessee             US  2020-09-20 04:22:56   \n",
      "3897        3897      Tennessee             US  2020-09-20 04:22:56   \n",
      "3898        3898        Vermont             US  2020-09-20 04:22:56   \n",
      "3899        3899     Washington             US  2020-09-20 04:22:56   \n",
      "3900        3900        Wyoming             US  2020-09-20 04:22:56   \n",
      "\n",
      "            Lat       Long_  Confirmed  Deaths  Recovered  Active  \\\n",
      "0     13.699997   72.183333          0       0          0     0.0   \n",
      "1     38.432609 -102.739215          0       0          0     0.0   \n",
      "2     45.519797 -104.539554          0       0          0     0.0   \n",
      "3     47.118246 -108.250888          0       0          0     0.0   \n",
      "4     41.913117  -99.976778          0       0          0     0.0   \n",
      "...         ...         ...        ...     ...        ...     ...   \n",
      "3896  35.773008  -86.282008       2811      23          0  2788.0   \n",
      "3897  35.773008  -86.282008       2803       6          0  2797.0   \n",
      "3898  44.599072  -72.500261          8       0          0     8.0   \n",
      "3899  38.894992  -77.036558        292       5          0   287.0   \n",
      "3900  43.170026 -107.568535          1       0          0     0.0   \n",
      "\n",
      "                    Combined_Key  Incidence_Rate  CaseFatality_Ratio  \n",
      "0             Lakshadweep, India        0.000000            0.000000  \n",
      "1            Kiowa, Colorado, US        0.000000            0.000000  \n",
      "2            Carter, Montana, US        0.000000            0.000000  \n",
      "3         Petroleum, Montana, US        0.000000            0.000000  \n",
      "4           Blaine, Nebraska, US        0.000000            0.000000  \n",
      "...                          ...             ...                 ...  \n",
      "3896    Out of TN, Tennessee, US        0.880476            0.818214  \n",
      "3897   Unassigned, Tennessee, US        0.877971            0.214056  \n",
      "3898     Unassigned, Vermont, US        0.002506            0.000000  \n",
      "3899  Unassigned, Washington, US        0.091462            1.712329  \n",
      "3900     Unassigned, Wyoming, US        0.000313            0.000000  \n",
      "\n",
      "[3891 rows x 13 columns]\n"
     ]
    }
   ],
   "source": [
    "print(rev_loc_data)"
   ]
  },
  {
   "cell_type": "code",
   "execution_count": 31,
   "metadata": {},
   "outputs": [
    {
     "name": "stdout",
     "output_type": "stream",
     "text": [
      "Number of rows in Orginal Dataset:  (3901, 13)\n",
      "Number of rows containing outliers:  10\n",
      "Number of rows in Revised Dataset:  (3891, 13)\n"
     ]
    }
   ],
   "source": [
    "print(\"Number of rows in Orginal Dataset: \",loc_data.shape)\n",
    "print(\"Number of rows containing outliers: \",len(outliers_active))\n",
    "print(\"Number of rows in Revised Dataset: \",rev_loc_data.shape)"
   ]
  },
  {
   "cell_type": "markdown",
   "metadata": {},
   "source": [
    "## Removing Case-Fatality Ratio Outliers from Loaction Dataset"
   ]
  },
  {
   "cell_type": "code",
   "execution_count": 32,
   "metadata": {},
   "outputs": [],
   "source": [
    "OutlierIndex = loc_data.where(loc_data.CaseFatality_Ratio.isin(outliers_fatality)).dropna().index"
   ]
  },
  {
   "cell_type": "code",
   "execution_count": 33,
   "metadata": {},
   "outputs": [
    {
     "name": "stdout",
     "output_type": "stream",
     "text": [
      "      Unnamed: 0 Province_State Country_Region          Last_Update  \\\n",
      "0              0    Lakshadweep          India  2020-09-20 04:22:56   \n",
      "1              1       Colorado             US  2020-09-20 04:22:56   \n",
      "2              2        Montana             US  2020-09-20 04:22:56   \n",
      "3              3        Montana             US  2020-09-20 04:22:56   \n",
      "4              4       Nebraska             US  2020-09-20 04:22:56   \n",
      "...          ...            ...            ...                  ...   \n",
      "3896        3896      Tennessee             US  2020-09-20 04:22:56   \n",
      "3897        3897      Tennessee             US  2020-09-20 04:22:56   \n",
      "3898        3898        Vermont             US  2020-09-20 04:22:56   \n",
      "3899        3899     Washington             US  2020-09-20 04:22:56   \n",
      "3900        3900        Wyoming             US  2020-09-20 04:22:56   \n",
      "\n",
      "            Lat       Long_  Confirmed  Deaths  Recovered  Active  \\\n",
      "0     13.699997   72.183333          0       0          0     0.0   \n",
      "1     38.432609 -102.739215          0       0          0     0.0   \n",
      "2     45.519797 -104.539554          0       0          0     0.0   \n",
      "3     47.118246 -108.250888          0       0          0     0.0   \n",
      "4     41.913117  -99.976778          0       0          0     0.0   \n",
      "...         ...         ...        ...     ...        ...     ...   \n",
      "3896  35.773008  -86.282008       2811      23          0  2788.0   \n",
      "3897  35.773008  -86.282008       2803       6          0  2797.0   \n",
      "3898  44.599072  -72.500261          8       0          0     8.0   \n",
      "3899  38.894992  -77.036558        292       5          0   287.0   \n",
      "3900  43.170026 -107.568535          1       0          0     0.0   \n",
      "\n",
      "                    Combined_Key  Incidence_Rate  CaseFatality_Ratio  \n",
      "0             Lakshadweep, India        0.000000            0.000000  \n",
      "1            Kiowa, Colorado, US        0.000000            0.000000  \n",
      "2            Carter, Montana, US        0.000000            0.000000  \n",
      "3         Petroleum, Montana, US        0.000000            0.000000  \n",
      "4           Blaine, Nebraska, US        0.000000            0.000000  \n",
      "...                          ...             ...                 ...  \n",
      "3896    Out of TN, Tennessee, US        0.880476            0.818214  \n",
      "3897   Unassigned, Tennessee, US        0.877971            0.214056  \n",
      "3898     Unassigned, Vermont, US        0.002506            0.000000  \n",
      "3899  Unassigned, Washington, US        0.091462            1.712329  \n",
      "3900     Unassigned, Wyoming, US        0.000313            0.000000  \n",
      "\n",
      "[3865 rows x 13 columns]\n"
     ]
    }
   ],
   "source": [
    "rev_loc_data=rev_loc_data.query(f\"CaseFatality_Ratio not in {outliers_fatality}\")\n",
    "print(rev_loc_data)"
   ]
  },
  {
   "cell_type": "code",
   "execution_count": 34,
   "metadata": {},
   "outputs": [
    {
     "name": "stdout",
     "output_type": "stream",
     "text": [
      "Number of rows in Orginal Dataset:  (3901, 13)\n",
      "Number of rows containing outliers:  36\n",
      "Number of rows in Revised Dataset:  (3865, 13)\n"
     ]
    }
   ],
   "source": [
    "print(\"Number of rows in Orginal Dataset: \",loc_data.shape)\n",
    "print(\"Number of rows containing outliers: \",len(outliers_fatality + outliers_active))\n",
    "print(\"Number of rows in Revised Dataset: \",rev_loc_data.shape)"
   ]
  },
  {
   "cell_type": "markdown",
   "metadata": {},
   "source": [
    "### The final revised dataset has fewer rows as compared to original dataset, after removal of necessary outliers"
   ]
  },
  {
   "cell_type": "code",
   "execution_count": 35,
   "metadata": {},
   "outputs": [],
   "source": [
    "rev_loc_data = rev_loc_data.drop(columns=['Unnamed: 0'])\n",
    "rev_loc_data = rev_loc_data.reset_index()\n",
    "rev_loc_data.to_csv(\"dataset/RevisedLocationData.csv\")\n"
   ]
  },
  {
   "cell_type": "code",
   "execution_count": 36,
   "metadata": {},
   "outputs": [],
   "source": [
    "OutlierIndexdf = pd.DataFrame(OutlierIndex)\n",
    "OutlierIndexdf.to_csv('dataset/OutlierIndex.csv', index=False)"
   ]
  },
  {
   "cell_type": "code",
   "execution_count": null,
   "metadata": {},
   "outputs": [],
   "source": []
  }
 ],
 "metadata": {
  "kernelspec": {
   "display_name": "Python 3",
   "language": "python",
   "name": "python3"
  },
  "language_info": {
   "codemirror_mode": {
    "name": "ipython",
    "version": 3
   },
   "file_extension": ".py",
   "mimetype": "text/x-python",
   "name": "python",
   "nbconvert_exporter": "python",
   "pygments_lexer": "ipython3",
   "version": "3.7.3"
  }
 },
 "nbformat": 4,
 "nbformat_minor": 4
}
